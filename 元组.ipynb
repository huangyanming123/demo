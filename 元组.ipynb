{
 "cells": [
  {
   "cell_type": "markdown",
   "metadata": {},
   "source": [
    "# tuple(元组）\n",
    "-  可以理解成一个不允许更改的列表\n",
    "-"
   ]
  },
  {
   "cell_type": "code",
   "execution_count": 2,
   "metadata": {},
   "outputs": [
    {
     "name": "stdout",
     "output_type": "stream",
     "text": [
      "<class 'tuple'>\n",
      "<class 'int'>\n",
      "<class 'tuple'>\n",
      "(100, 200, 300)\n",
      "<class 'tuple'>\n",
      "<class 'tuple'>\n",
      "()\n",
      "(1, 2, 3, 'xiaoming')\n"
     ]
    }
   ],
   "source": [
    "# tuple的创建\n",
    "\n",
    "# 1.直接用小括号创建\n",
    "\n",
    "ta = ()\n",
    "print(type(ta))\n",
    "#当用小括号创建一个元素的tuple的时候\n",
    "tb = (100)\n",
    "print(type(tb))\n",
    "tc = (100, )\n",
    "print(type(tc))\n",
    "td = (100,200,300)\n",
    "print(td)\n",
    "\n",
    "\n",
    "# 2.直接用逗号\n",
    "ta = 100,\n",
    "print(type(ta))\n",
    "tb = 100, 200, 300,\n",
    "print(type(tb))\n",
    "\n",
    "\n",
    "#3，使用tuple定义\n",
    "ta = tuple()\n",
    "print(ta)\n",
    "\n",
    "\n",
    "li = [1, 2, 3, \"xiaoming\"]\n",
    "tb = tuple(li) # 要求tuple参数必须可迭代\n",
    "print(tb)"
   ]
  },
  {
   "cell_type": "markdown",
   "metadata": {},
   "source": [
    "# tuple其余特征跟list基本一致\n",
    "- 有序\n",
    "- 可以访问不可以被修改\n",
    "- 元素可以是任意类型"
   ]
  },
  {
   "cell_type": "code",
   "execution_count": 3,
   "metadata": {},
   "outputs": [
    {
     "name": "stdout",
     "output_type": "stream",
     "text": [
      "['wo', 'xihuan', 'xiaomao']\n",
      "xiaomao\n"
     ]
    }
   ],
   "source": [
    "# tuple索引操作\n",
    "la = [\"wo\", \"xihuan\", \"xiaomao\"]\n",
    "print(la)\n",
    "ta = tuple(la)\n",
    "print(ta[2])"
   ]
  },
  {
   "cell_type": "code",
   "execution_count": 12,
   "metadata": {},
   "outputs": [
    {
     "name": "stdout",
     "output_type": "stream",
     "text": [
      "('wo', 'xihuan', 'xiaomao')\n",
      "('wo', 'xihuan', 'xiaomao')\n",
      "('xiaomao', 'xihuan', 'wo')\n",
      "xihuan\n"
     ]
    }
   ],
   "source": [
    "# tuple分片操作\n",
    "print(ta[:])\n",
    "print(ta[::1])\n",
    "print(ta[-1::-1])\n",
    "print(ta[1])"
   ]
  },
  {
   "cell_type": "code",
   "execution_count": 13,
   "metadata": {},
   "outputs": [
    {
     "name": "stdout",
     "output_type": "stream",
     "text": [
      "(100, 200, 300, 'wo', 'xihuan', 'xiaomao')\n"
     ]
    }
   ],
   "source": [
    "# 元组的相加\n",
    "ta = 100,200,300\n",
    "tb = (\"wo\", \"xihuan\", \"xiaomao\")\n",
    "tc = ta + tb\n",
    "print(tc)"
   ]
  },
  {
   "cell_type": "code",
   "execution_count": 14,
   "metadata": {},
   "outputs": [
    {
     "name": "stdout",
     "output_type": "stream",
     "text": [
      "('wo', 'xihuan', 'xiaomao', 'wo', 'xihuan', 'xiaomao')\n"
     ]
    }
   ],
   "source": [
    "# tuple 乘法\n",
    "\n",
    "tc = tb * 2\n",
    "print(tc)"
   ]
  },
  {
   "cell_type": "code",
   "execution_count": 16,
   "metadata": {},
   "outputs": [
    {
     "name": "stdout",
     "output_type": "stream",
     "text": [
      "('wo', 'xihuan', 'xiaomao')\n",
      "对的\n"
     ]
    }
   ],
   "source": [
    "# tuple 成员检测\n",
    "\n",
    "print(tb)\n",
    "\n",
    "if \"xiaomao\" in tb:\n",
    "    print(\"对的\")\n",
    "\n",
    "if \"xihuan\" not in tb:\n",
    "    print(\"错的\")\n",
    "\n",
    "\n"
   ]
  },
  {
   "cell_type": "code",
   "execution_count": 17,
   "metadata": {},
   "outputs": [
    {
     "name": "stdout",
     "output_type": "stream",
     "text": [
      "wo\n",
      "xihuan\n",
      "xiaomao\n"
     ]
    }
   ],
   "source": [
    "#元组遍历\n",
    "\n",
    "for i in tb:\n",
    "    print(i)"
   ]
  },
  {
   "cell_type": "code",
   "execution_count": 24,
   "metadata": {},
   "outputs": [
    {
     "name": "stdout",
     "output_type": "stream",
     "text": [
      "(10, 20, 30)\n",
      "10\n",
      "20\n",
      "30\n",
      "(6, 7, 8)\n",
      "6\n",
      "7\n",
      "8\n",
      "(100, 200, 300)\n",
      "100\n",
      "200\n",
      "300\n",
      "10 20 30\n",
      "6 7 8\n",
      "100 200 300\n"
     ]
    }
   ],
   "source": [
    "ta =((10, 20, 30),(6, 7, 8), (100, 200, 300))\n",
    "#嵌套元组的访问\n",
    "#1. 双层循环访问\n",
    "for i in ta:\n",
    "    print(i)\n",
    "    for j in i:\n",
    "        print(j)\n",
    "        \n",
    "#2. 使用单层循环\n",
    "for i,j,k in ta:\n",
    "    print(i,j,k)\n",
    "    \n",
    "# 上面访问有一个规定，即i,j,k,要跟元组元素个数对应\n"
   ]
  },
  {
   "cell_type": "code",
   "execution_count": 28,
   "metadata": {},
   "outputs": [
    {
     "name": "stdout",
     "output_type": "stream",
     "text": [
      "8\n",
      "3656\n",
      "1\n"
     ]
    }
   ],
   "source": [
    "# 常用元组函数\n",
    "#len:长度\n",
    "oo = (1, 3656, 169, 1562, 285, 39, 9, 555)\n",
    "print(len(oo))\n",
    "print(max(oo))\n",
    "print(min(oo))\n",
    "#max:最大值"
   ]
  },
  {
   "cell_type": "code",
   "execution_count": 30,
   "metadata": {},
   "outputs": [
    {
     "name": "stdout",
     "output_type": "stream",
     "text": [
      "5\n",
      "11\n",
      "8\n"
     ]
    }
   ],
   "source": [
    "# count: 对某一元素计数\n",
    "ta = (1,2,2,2,2,2,2,2,9,9,9,9,8,7,4,5,2,4,6,2,5,6,2,5,6,2,1,6,6,9,8,15,1,3)\n",
    "print(ta.count(9))\n",
    "print(ta.count(2))\n",
    "# index:某一元素所在位置\n",
    "print(ta.index(9))"
   ]
  },
  {
   "cell_type": "code",
   "execution_count": 32,
   "metadata": {},
   "outputs": [
    {
     "name": "stdout",
     "output_type": "stream",
     "text": [
      "xiaomao 100\n"
     ]
    }
   ],
   "source": [
    "# tuple的特殊用法\n",
    "a = 100\n",
    "b = \"xiaomao\"\n",
    "# 要求对a,b值进行互换\n",
    "#此种用法是python的独门秘籍\n",
    "a,b = b,a\n",
    "print(a,b)"
   ]
  },
  {
   "cell_type": "code",
   "execution_count": null,
   "metadata": {},
   "outputs": [],
   "source": []
  },
  {
   "cell_type": "code",
   "execution_count": null,
   "metadata": {},
   "outputs": [],
   "source": []
  },
  {
   "cell_type": "code",
   "execution_count": null,
   "metadata": {},
   "outputs": [],
   "source": []
  },
  {
   "cell_type": "code",
   "execution_count": null,
   "metadata": {},
   "outputs": [],
   "source": []
  },
  {
   "cell_type": "code",
   "execution_count": null,
   "metadata": {},
   "outputs": [],
   "source": []
  }
 ],
 "metadata": {
  "kernelspec": {
   "display_name": "Python 3",
   "language": "python",
   "name": "python3"
  },
  "language_info": {
   "codemirror_mode": {
    "name": "ipython",
    "version": 3
   },
   "file_extension": ".py",
   "mimetype": "text/x-python",
   "name": "python",
   "nbconvert_exporter": "python",
   "pygments_lexer": "ipython3",
   "version": "3.6.4"
  }
 },
 "nbformat": 4,
 "nbformat_minor": 2
}
