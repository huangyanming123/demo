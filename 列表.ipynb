{
 "cells": [
  {
   "cell_type": "markdown",
   "metadata": {},
   "source": [
    "# list列表\n",
    "-  一组由有序数据组成的序列\n",
    "    -数据就有先后顺序\n",
    "    -数据可以不是一类数据\n",
    "-  list的创建\n",
    "    -直接创建，用中括号创建，内容直接用英文逗号隔开\n",
    "    -使用list创建\n",
    "    -列表包含单个字符串，是特列"
   ]
  },
  {
   "cell_type": "code",
   "execution_count": null,
   "metadata": {},
   "outputs": [],
   "source": [
    "python中的内置类型\n",
    "str\n",
    "list\n",
    "tuple\n",
    "set\n",
    "dict"
   ]
  },
  {
   "cell_type": "code",
   "execution_count": 2,
   "metadata": {},
   "outputs": [
    {
     "name": "stdout",
     "output_type": "stream",
     "text": [
      "[1, 2, 3, 4, 5]\n",
      "[1, 2, 3, '小明', 'xiaoming']\n"
     ]
    }
   ],
   "source": [
    "# 直接赋值创建列表\n",
    "L1 = [1,2,3,4,5]\n",
    "\n",
    "#list内的数据可以不是一个类型\n",
    "L2 = [1,2,3,\"小明\",\"xiaoming\"]\n",
    "\n",
    "print(L1)\n",
    "print(L2)"
   ]
  },
  {
   "cell_type": "code",
   "execution_count": 3,
   "metadata": {},
   "outputs": [
    {
     "name": "stdout",
     "output_type": "stream",
     "text": [
      "[]\n",
      "<class 'list'>\n"
     ]
    }
   ],
   "source": [
    "#创建列表的第二种方式\n",
    "L3 = list()\n",
    "print(L3)\n",
    "print(   type(L3)     )"
   ]
  },
  {
   "cell_type": "markdown",
   "metadata": {},
   "source": [
    "#内置函数的概念\n",
    "-help:帮助函数\n",
    "-type:显示变量的类型\n",
    "-id:显示变量的id\n",
    "-print:"
   ]
  },
  {
   "cell_type": "code",
   "execution_count": 5,
   "metadata": {},
   "outputs": [
    {
     "name": "stdout",
     "output_type": "stream",
     "text": [
      "<class 'list'>\n",
      "['x', 'i', 'a', 'o', ' ', 'm', 'i', 'n', 'g']\n"
     ]
    }
   ],
   "source": [
    "# list创建的特例演示\n",
    "\n",
    "s = \"xiao ming\"\n",
    "#此种情况使用 L1=[s]\n",
    "L1 = list(s)\n",
    "print(type(L1))\n",
    "print(L1)"
   ]
  },
  {
   "cell_type": "markdown",
   "metadata": {},
   "source": [
    "#列表的常见操作\n",
    "-访问\n",
    "    -使用下标操作，也叫索引\n",
    "    -列表的元素索引是从0开始\n",
    "- 切片操作\n",
    "    -对列表进行任意一段截取\n",
    "    -截取完以后创建一个新的列表"
   ]
  },
  {
   "cell_type": "code",
   "execution_count": 9,
   "metadata": {},
   "outputs": [
    {
     "name": "stdout",
     "output_type": "stream",
     "text": [
      "4\n"
     ]
    }
   ],
   "source": [
    "L1 = [32,43,22,354,323,4]\n",
    "#使用下标访问\n",
    "print(L1[5])#数组访问不能超标"
   ]
  },
  {
   "cell_type": "code",
   "execution_count": 15,
   "metadata": {},
   "outputs": [
    {
     "name": "stdout",
     "output_type": "stream",
     "text": [
      "[20, 30, 40, 50, 60]\n",
      "[20, 30, 40, 50, 60]\n",
      "1852837579464\n",
      "1852856057992\n",
      "[10, 20, 30, 40]\n",
      "[10, 20, 30, 40, 50, 60, 70, 80, 90, 100]\n",
      "[30, 40, 50, 60, 70, 80, 90, 100]\n"
     ]
    }
   ],
   "source": [
    "#切片操作需要注意取值范围，左包括右不包括\n",
    "L1 = [10,20,30,40,50,60,70,80,90,100]\n",
    "L2 = L1[1:6]\n",
    "#对比打印结果跟下标的值\n",
    "print(L1[1:6])\n",
    "print(L2)\n",
    "# 下面结果说明切片后生成的是一个全新的列表\n",
    "#通过内置函数id可以判断出切片是否生成了全新的列表\n",
    "#id的作用是用来判断两个变量是否是一个变量\n",
    "\n",
    "L2 = L1[0:10]\n",
    "print(id(L1))\n",
    "print(id(L2))\n",
    "\n",
    "\n",
    "#切片下标可以为空\n",
    "print(L1[:4])\n",
    "print(L1[:])\n",
    "print(L1[2:])"
   ]
  },
  {
   "cell_type": "code",
   "execution_count": 16,
   "metadata": {},
   "outputs": [
    {
     "name": "stdout",
     "output_type": "stream",
     "text": [
      "[10, 20, 30, 40, 50, 60, 70, 80, 90, 100]\n",
      "[10, 30, 50, 70, 90]\n"
     ]
    }
   ],
   "source": [
    "# 分片可以控制增长幅度，默认增长为1\n",
    "print(L1[::1])#等于print(L1[:])\n",
    "print(L1[::2])"
   ]
  },
  {
   "cell_type": "code",
   "execution_count": 17,
   "metadata": {},
   "outputs": [
    {
     "name": "stdout",
     "output_type": "stream",
     "text": [
      "[10, 20, 30, 40, 50, 60, 70, 80, 90, 100]\n"
     ]
    }
   ],
   "source": [
    "#下标可以超出范围，超出后不再考虑多余下标内容\n",
    "print(L1[:100])"
   ]
  },
  {
   "cell_type": "code",
   "execution_count": 21,
   "metadata": {},
   "outputs": [
    {
     "name": "stdout",
     "output_type": "stream",
     "text": [
      "[]\n",
      "[90, 80, 70]\n",
      "[70, 80, 90]\n"
     ]
    }
   ],
   "source": [
    "#下标值，增长幅度可以为负数\n",
    "#下标为负数，表明顺序是从右往左\n",
    "#规定：数组最后一个数字的下标是-1\n",
    "\n",
    "#下面例子为空，因为默认是从左向右移动\n",
    "print(L1[-2:-5])\n",
    "\n",
    "#如果想利用负数下下标打印 70，80，70\n",
    "print(L1[-2:-5:-1])#-1就相当于是一个向量从右往左\n",
    "#如果利用负数下标打印70，80，90\n",
    "print(L1[-4:-1:1])#1就相当于是一个向量从左往右"
   ]
  },
  {
   "cell_type": "code",
   "execution_count": null,
   "metadata": {},
   "outputs": [],
   "source": []
  }
 ],
 "metadata": {
  "kernelspec": {
   "display_name": "Python 3",
   "language": "python",
   "name": "python3"
  },
  "language_info": {
   "codemirror_mode": {
    "name": "ipython",
    "version": 3
   },
   "file_extension": ".py",
   "mimetype": "text/x-python",
   "name": "python",
   "nbconvert_exporter": "python",
   "pygments_lexer": "ipython3",
   "version": "3.6.4"
  }
 },
 "nbformat": 4,
 "nbformat_minor": 2
}
