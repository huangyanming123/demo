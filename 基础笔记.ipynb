{
 "cells": [
  {
   "cell_type": "markdown",
   "metadata": {},
   "source": [
    "#成员运算符\n",
    "-用来检验一个值或变量是否在某个集合里\n",
    "-in 成员运算符\n",
    "-not in：不在里面的意思"
   ]
  },
  {
   "cell_type": "code",
   "execution_count": null,
   "metadata": {},
   "outputs": [],
   "source": []
  },
  {
   "cell_type": "code",
   "execution_count": 1,
   "metadata": {},
   "outputs": [
    {
     "name": "stdout",
     "output_type": "stream",
     "text": [
      "False\n"
     ]
    }
   ],
   "source": [
    "#案例\n",
    "# a在L里面\n",
    "L = [1,2,3,4,5]\n",
    "a = 6\n",
    "aa = a in L\n",
    "print(aa)"
   ]
  },
  {
   "cell_type": "code",
   "execution_count": 2,
   "metadata": {},
   "outputs": [
    {
     "name": "stdout",
     "output_type": "stream",
     "text": [
      "True\n"
     ]
    }
   ],
   "source": [
    "# a不在L里面\n",
    "ab = a not in L\n",
    "print(ab)"
   ]
  },
  {
   "cell_type": "markdown",
   "metadata": {},
   "source": [
    "# 身份运算符\n",
    "- 确定两个变量是否是同一变量\n",
    "- is ：变量运算符\n",
    "- is not :不是\n",
    "- [-5,256]之间python认为这是较小数字可以放在同一内存当中"
   ]
  },
  {
   "cell_type": "code",
   "execution_count": 5,
   "metadata": {},
   "outputs": [
    {
     "name": "stdout",
     "output_type": "stream",
     "text": [
      "False\n",
      "False\n",
      "True\n"
     ]
    }
   ],
   "source": [
    "#身份运算符定义\n",
    "\n",
    "a=1\n",
    "b=6649629\n",
    "ac = a is b\n",
    "print(ac)\n",
    "\n",
    "#a,b仅仅是值一样但不代表a,b是一个变量\n",
    "a=6649629\n",
    "b=6649629\n",
    "aa = a is b\n",
    "print(aa)\n",
    "\n",
    "#内存问题\n",
    "\n",
    "a=5\n",
    "b=5\n",
    "aa = a is b\n",
    "print(aa)\n"
   ]
  },
  {
   "cell_type": "markdown",
   "metadata": {},
   "source": [
    "# 运算符号优先级问题\n",
    "- 小括号具有最高优先级\n",
    "- **指数 最高优先级\n",
    "- ~ + -按位翻转 一元加号和减号\n",
    "- * / % // 乘 除 取模 整除\n",
    "- ^ | 位运算符\n",
    "- =< < > >= 比较运算符\n",
    "- <> == !=等于运算符\n",
    "-  = 赋值运算符\n",
    "- is is not身份运算符\n",
    "- in not in成员运算符\n",
    "- not or and 逻辑运算符"
   ]
  },
  {
   "cell_type": "markdown",
   "metadata": {},
   "source": [
    "#程序结构\n",
    "-程序三种结构\n",
    "    -顺序\n",
    "    -循环\n",
    "    -分支\n"
   ]
  },
  {
   "cell_type": "markdown",
   "metadata": {},
   "source": [
    "#分支结构\n",
    "    -分支结构基本语法\n",
    "    if条件表达式\n",
    "        语句1\n",
    "        语句2\n",
    "        语句3\n",
    "        ……\n",
    "        结果一定是一个布尔值\n",
    " -条件表达式就是计算结果必须为布尔值的表达式\n",
    " -表达式后面：不能少\n",
    " -if后面语句，如果属于同一个语句块，必须同一个缩进\n",
    " -字符串内有东西则为ture，空则为false\n",
    "\n"
   ]
  },
  {
   "cell_type": "code",
   "execution_count": 2,
   "metadata": {},
   "outputs": [
    {
     "name": "stdout",
     "output_type": "stream",
     "text": [
      "请输入你的年龄17\n",
      "下次你请我\n"
     ]
    }
   ],
   "source": [
    "#if联系\n",
    "age = input(\"请输入你的年龄\")\n",
    "age=int(age)\n",
    "if age > 18:#注意一定要有冒号\n",
    "    print(\"喝酒去\")\n",
    "\n",
    "print(\"下次你请我\")\n",
    "\n",
    "\n",
    "\n",
    "\n"
   ]
  },
  {
   "cell_type": "markdown",
   "metadata": {},
   "source": [
    "# 双向分支\n",
    "-  if...else...表达\n",
    "- 语法结构：\n",
    "        \n",
    "        if表达式：\n",
    "        语句1\n",
    "        语句2\n",
    "        .....\n",
    "        else:\n",
    "        语句1\n",
    "        语句2\n",
    "        .....\n",
    "    \n",
    "\n"
   ]
  },
  {
   "cell_type": "code",
   "execution_count": null,
   "metadata": {},
   "outputs": [],
   "source": [
    "#input作用\n",
    "#1.在屏幕上输出括号内字符串\n",
    "#2.接受用户输入内容再返回刀程序\n",
    "#3.input返回的内容一定是字符串类型\n",
    "\n",
    "#input负责把用户输入并把内容返回给变量\n",
    "gender = input()"
   ]
  },
  {
   "cell_type": "code",
   "execution_count": 13,
   "metadata": {},
   "outputs": [
    {
     "name": "stdout",
     "output_type": "stream",
     "text": [
      "请输入您的性别man\n",
      "man\n",
      "上网开黑去\n",
      "大保健去\n"
     ]
    }
   ],
   "source": [
    "gender = input(\"请输入您的性别\")\n",
    "print(gender)\n",
    "\n",
    "if gender == \"man\":\n",
    "    print(\"上网开黑去\")\n",
    "    print(\"大保健去\")\n",
    "else:\n",
    "    print(\"不好意思，我是个gay\")"
   ]
  },
  {
   "cell_type": "code",
   "execution_count": 16,
   "metadata": {},
   "outputs": [
    {
     "name": "stdout",
     "output_type": "stream",
     "text": [
      "输入的必须是数字，成绩66\n",
      "平\n"
     ]
    }
   ],
   "source": [
    "#考试成绩判断\n",
    "#成绩为用户输入\n",
    "#90以上：输出优秀\n",
    "#80-90：良\n",
    "#70-80：中\n",
    "#60-70: 平\n",
    "#60以下：您真是个弟弟\n",
    "\n",
    "score = input(\"输入的必须是数字，成绩\")\n",
    "score = int(score)\n",
    "\n",
    "if score > 90:\n",
    "    print(\"优秀\")\n",
    "if score > 80:\n",
    "    print(\"良\")\n",
    "if score > 70:\n",
    "    print(\"中\")\n",
    "if score > 60:\n",
    "    print(\"平\")\n",
    "else:\n",
    "    print(\"您可真是个弟弟\")\n"
   ]
  },
  {
   "cell_type": "markdown",
   "metadata": {},
   "source": [
    "# 多路分支\n",
    "- 很多分支的情况，叫做多路分支\n",
    "\n",
    "    if 条件表达式：\n",
    "    语句1\n",
    "    .....\n",
    "    elif 条件表达式：\n",
    "    语句2\n",
    "    .....\n",
    "    elif 条件表达式：\n",
    "    语句3\n",
    "    .....\n",
    "    else:\n",
    "    ...\n",
    "    \n",
    "- elif可以有很多，根据实际情况\n",
    "- else可选\n",
    "- 多路分支只执行一种情况\n",
    "# if语句补充\n",
    "- if语句可以嵌套使用，不推荐\n",
    "- python里面没有switch语句\n",
    "\n",
    "\n"
   ]
  },
  {
   "cell_type": "markdown",
   "metadata": {},
   "source": [
    "# 循环语句\n",
    "- 重复地执行某一个固定的动作或者任务\n",
    "- 分类\n",
    "    -for\n",
    "    -while\n",
    "# for循环\n",
    "- 语法\n",
    "    \n",
    "    for 变量 in 序列\n",
    "        语句1\n",
    "        语句2\n",
    "        ...........\n",
    "\n"
   ]
  },
  {
   "cell_type": "code",
   "execution_count": 9,
   "metadata": {},
   "outputs": [
    {
     "name": "stdout",
     "output_type": "stream",
     "text": [
      "1\n",
      "101\n",
      "1001\n",
      "2\n",
      "102\n",
      "1002\n",
      "3\n",
      "103\n",
      "1003\n",
      "4\n",
      "104\n",
      "1004\n",
      "5\n",
      "105\n",
      "1005\n",
      "6\n",
      "106\n",
      "1006\n",
      "7\n",
      "107\n",
      "1007\n",
      "8\n",
      "108\n",
      "1008\n",
      "9\n",
      "109\n",
      "1009\n",
      "9\n",
      "109\n",
      "1009\n",
      "0\n",
      "100\n",
      "1000\n"
     ]
    }
   ],
   "source": [
    "#列表知识后面写有\n",
    "#比如[1,2,3,4,5,6,7]\n",
    "\n",
    "list_one = [1,2,3,4,5,6,7,8,9,9,0]\n",
    "for shuzi in list_one: \n",
    "    print(shuzi)\n",
    "    print(shuzi+100)\n",
    "    print(shuzi+1000)\n",
    "\n",
    "\n",
    "\n"
   ]
  },
  {
   "cell_type": "code",
   "execution_count": 14,
   "metadata": {},
   "outputs": [
    {
     "name": "stdout",
     "output_type": "stream",
     "text": [
      "zs\n",
      "zml\n",
      "sb\n",
      "sb\n"
     ]
    }
   ],
   "source": [
    "# 打印列表学生姓名\n",
    "stu_list = ['hym','yxm','zzz','thh']\n",
    "\n",
    "for stu in stu_list:\n",
    "    if stu == \"yxm\":\n",
    "        print(\"zml\")       #注意打印的东西要在条件语句之后\n",
    "    elif stu == \"hym\":\n",
    "        print(\"zs\") \n",
    "    else:\n",
    "        print(\"sb\")\n",
    "\n",
    "\n"
   ]
  },
  {
   "cell_type": "markdown",
   "metadata": {},
   "source": [
    "# for-else语句\n",
    "- for循环结束的时候，有时候需要执行一些收尾工作，此时需要用else语句，else语句可选"
   ]
  },
  {
   "cell_type": "code",
   "execution_count": 15,
   "metadata": {},
   "outputs": [
    {
     "name": "stdout",
     "output_type": "stream",
     "text": [
      "zs\n",
      "zml\n",
      "sb\n",
      "sb\n",
      "不会再爱了\n"
     ]
    }
   ],
   "source": [
    "for stu in stu_list:\n",
    "    if stu == \"yxm\":\n",
    "        print(\"zml\")       #注意打印的东西要在条件语句之后\n",
    "    elif stu == \"hym\":\n",
    "        print(\"zs\") \n",
    "    else:\n",
    "        print(\"sb\")\n",
    "else:\n",
    "    print(\"不会再爱了\")"
   ]
  },
  {
   "cell_type": "markdown",
   "metadata": {},
   "source": [
    "#break，continue，pass\n",
    "-break：无条件结束整个循环，简称循环猝死\n",
    "-continue:继续\n",
    "-pass：只是占位符,啥也不干"
   ]
  },
  {
   "cell_type": "code",
   "execution_count": 20,
   "metadata": {},
   "outputs": [
    {
     "name": "stdout",
     "output_type": "stream",
     "text": [
      "🐀\n",
      "🐂\n",
      "🐇\n",
      "🐍\n",
      "哈哈哈，抓到你🐎了\n"
     ]
    }
   ],
   "source": [
    "\n",
    "\n",
    "#把你🐎抓起来\n",
    "animal_list = [\"🐀\",\"🐂\",\"🐇\",\"🐍\",\"🐎\",\"🐏\",\"🐒\"]\n",
    "    \n",
    "for animal in animal_list:\n",
    "    if animal == \"🐎\":\n",
    "        print(\"哈哈哈，抓到你🐎了\")\n",
    "        break\n",
    "    else:\n",
    "            print(animal)\n",
    "\n",
    "\n",
    "\n",
    "\n",
    "\n",
    "\n",
    "\n"
   ]
  },
  {
   "cell_type": "code",
   "execution_count": 23,
   "metadata": {},
   "outputs": [
    {
     "name": "stdout",
     "output_type": "stream",
     "text": [
      "2\n",
      "哈哈，找到你了崽种\n",
      "4\n",
      "哈哈，找到你了崽种\n",
      "6\n",
      "哈哈，找到你了崽种\n",
      "8\n",
      "哈哈，找到你了崽种\n",
      "10\n",
      "哈哈，找到你了崽种\n"
     ]
    }
   ],
   "source": [
    "#continue语句练习\n",
    "#在1-10中找到所有偶数，找到偶数后打印偶数\n",
    "\n",
    "dig_list = [1,2,3,4,5,6,7,8,9,10]\n",
    "\n",
    "for dig in dig_list:\n",
    "    if dig % 2 == 1:\n",
    "        continue\n",
    "    \n",
    "    print(dig)\n",
    "    print(\"哈哈，找到你了崽种\")\n",
    "\n",
    "\n",
    "\n"
   ]
  },
  {
   "cell_type": "code",
   "execution_count": 25,
   "metadata": {},
   "outputs": [
    {
     "name": "stdout",
     "output_type": "stream",
     "text": [
      "你还小\n"
     ]
    }
   ],
   "source": [
    "#pass案例\n",
    "\n",
    "age = 19\n",
    "if age > 19:\n",
    "    pass\n",
    "else:\n",
    "    print(\"你还小\")\n",
    "\n",
    "\n",
    "\n"
   ]
  },
  {
   "cell_type": "markdown",
   "metadata": {},
   "source": [
    "# range函数\n",
    "- 生成有序数列\n",
    "- 生成数字队列可以定制\n",
    "- range生成的数列左包括右不包括"
   ]
  },
  {
   "cell_type": "code",
   "execution_count": 27,
   "metadata": {},
   "outputs": [
    {
     "name": "stdout",
     "output_type": "stream",
     "text": [
      "1\n",
      "2\n",
      "3\n",
      "4\n",
      "5\n",
      "6\n",
      "7\n",
      "8\n",
      "9\n",
      "10\n",
      "11\n",
      "12\n",
      "13\n",
      "14\n",
      "15\n",
      "16\n",
      "17\n",
      "18\n",
      "19\n",
      "20\n",
      "21\n",
      "22\n",
      "23\n",
      "24\n",
      "25\n",
      "26\n",
      "27\n",
      "28\n",
      "29\n",
      "30\n",
      "31\n",
      "32\n",
      "33\n",
      "34\n",
      "35\n",
      "36\n",
      "37\n",
      "38\n",
      "39\n",
      "40\n",
      "41\n",
      "42\n",
      "43\n",
      "44\n",
      "45\n",
      "46\n",
      "47\n",
      "48\n",
      "49\n",
      "50\n"
     ]
    }
   ],
   "source": [
    "dig_list = range(1,51)\n",
    "for dig in dig_list:\n",
    "    print(dig)\n",
    "    \n",
    "    \n",
    "#一般在python中，连个表示范围的数字左包括又不包括，randint函数是一个个例\n",
    "\n"
   ]
  },
  {
   "cell_type": "code",
   "execution_count": 29,
   "metadata": {},
   "outputs": [
    {
     "name": "stdout",
     "output_type": "stream",
     "text": [
      "1\n",
      "2\n",
      "3\n",
      "4\n",
      "5\n",
      "6\n",
      "7\n",
      "8\n",
      "9\n"
     ]
    }
   ],
   "source": [
    "for dig in range(1,10):\n",
    "    print(dig)\n",
    "\n"
   ]
  },
  {
   "cell_type": "markdown",
   "metadata": {},
   "source": [
    "# while 循环\n",
    "- 一个循环语句\n",
    "- 表示当条件成立的时候，就循环，适用于不知道具体循环次数，但能确定再某个条件成立的情况下就循环\n",
    "- while语法:\n",
    "\n",
    "\n",
    "            while 条件表达式：\n",
    "            语句块\n",
    "            \n",
    "            另一种表达方式：\n",
    "            while 条件表达式:\n",
    "                语句块1\n",
    "            else ：\n",
    "                语句块2\n",
    "            "
   ]
  },
  {
   "cell_type": "code",
   "execution_count": 9,
   "metadata": {},
   "outputs": [
    {
     "name": "stdout",
     "output_type": "stream",
     "text": [
      "11\n"
     ]
    }
   ],
   "source": [
    "year = 2019\n",
    "benjin = 10000\n",
    "while benjin < 20000:\n",
    "    benjin = benjin * (1 + 0.067)\n",
    "    year = year + 1\n",
    "    years = year - 2019\n",
    "print(years)\n",
    "\n",
    "\n"
   ]
  },
  {
   "cell_type": "markdown",
   "metadata": {},
   "source": [
    "#函数 \n",
    "-函数是代码的一种组织形式\n",
    "-函数应该能完成一项特定工作，而且一般一个函数值完成一项工作\n",
    "-有些语言，分函数和过程这两个概念，通俗解释是，有返回结果的叫函数，无返回结果的叫过程，python不加以区分\n",
    "-函数的使用\n",
    "    -函数使用需先定义\n",
    "    -使用函数，俗称调用"
   ]
  },
  {
   "cell_type": "code",
   "execution_count": 1,
   "metadata": {},
   "outputs": [
    {
     "name": "stdout",
     "output_type": "stream",
     "text": [
      "函数结束了\n"
     ]
    }
   ],
   "source": [
    "#定义一个函数\n",
    "#只是定义的话不会执行\n",
    "#1.def 关键字，后面跟一个空格\n",
    "#2.函数名自己定义，遵守命名规则，约定俗成\n",
    "#3.后面的括号和冒号不能省，括号内可以由参数\n",
    "#4.函数内所有代码缩进\n",
    "\n",
    "\n",
    "def func():\n",
    "    print(\"xxxxx\")\n",
    "    print(\"xxxxx\")\n",
    "    \n",
    "print(\"函数结束了\")"
   ]
  },
  {
   "cell_type": "code",
   "execution_count": 2,
   "metadata": {},
   "outputs": [
    {
     "name": "stdout",
     "output_type": "stream",
     "text": [
      "xxxxx\n",
      "xxxxx\n"
     ]
    }
   ],
   "source": [
    "#函数的调用\n",
    "#直接写出函数名字，后面小括号不能省略，括号内内容根据情况\n",
    "func()"
   ]
  },
  {
   "cell_type": "markdown",
   "metadata": {},
   "source": [
    "# 函数参数\n",
    "- str\n",
    "- list,tupe,set,map"
   ]
  },
  {
   "cell_type": "markdown",
   "metadata": {},
   "source": [
    "#函数的参数和返回值\n",
    "-参数：负责给函数传递一些必要的数据或者信息\n",
    "    -形参：(形式参数):在函数定义的时候用到的参数，没有具体值，只是一个占位符号\n",
    "    -实参：（实际参数）：在调用函数的时候输入的值\n",
    "-返回值：调用函数的时候的一个执行结果\n",
    "    -使用renturn返回结果\n",
    "    -如果没有返回值，我们推荐使用renturn None表示函数结束"
   ]
  },
  {
   "cell_type": "code",
   "execution_count": 4,
   "metadata": {},
   "outputs": [
    {
     "name": "stdout",
     "output_type": "stream",
     "text": [
      "小明,你好吗？\n",
      "小明，你看见我家小毛了吗？\n"
     ]
    }
   ],
   "source": [
    "#形参和实参案例\n",
    "#参数person只是一个符号\n",
    "#调用的时候用的是另一个\n",
    "\n",
    "def hello(person):\n",
    "    print(\"{},你好吗？\".format(person))\n",
    "    print(\"{}，你看见我家小毛了吗？\".format(person))\n",
    "    return None\n",
    "    \n",
    "p = \"小明\"\n",
    "#调用函数，需要把p作为实参代入\n",
    "hello(p)"
   ]
  },
  {
   "cell_type": "code",
   "execution_count": 5,
   "metadata": {},
   "outputs": [
    {
     "name": "stdout",
     "output_type": "stream",
     "text": [
      "小五,你好吗？\n",
      "小五，你看见我家小毛了吗？\n"
     ]
    }
   ],
   "source": [
    "p = \"小五\"\n",
    "hello(p)"
   ]
  },
  {
   "cell_type": "code",
   "execution_count": 8,
   "metadata": {},
   "outputs": [
    {
     "name": "stdout",
     "output_type": "stream",
     "text": [
      "\n",
      "Help on NoneType object:\n",
      "\n",
      "class NoneType(object)\n",
      " |  Methods defined here:\n",
      " |  \n",
      " |  __bool__(self, /)\n",
      " |      self != 0\n",
      " |  \n",
      " |  __new__(*args, **kwargs) from builtins.type\n",
      " |      Create and return a new object.  See help(type) for accurate signature.\n",
      " |  \n",
      " |  __repr__(self, /)\n",
      " |      Return repr(self).\n",
      "\n"
     ]
    }
   ],
   "source": [
    "#help负责随时为你提供帮助\n",
    "help(print())\n"
   ]
  },
  {
   "cell_type": "code",
   "execution_count": 14,
   "metadata": {},
   "outputs": [
    {
     "name": "stdout",
     "output_type": "stream",
     "text": [
      "1  \n",
      "2  4  \n",
      "3  6  9  \n",
      "4  8  12  16  \n",
      "5  10  15  20  25  \n",
      "6  12  18  24  30  36  \n",
      "7  14  21  28  35  42  49  \n",
      "8  16  24  32  40  48  56  64  \n",
      "9  18  27  36  45  54  63  72  81  \n"
     ]
    }
   ],
   "source": [
    "#九九乘法表\n",
    "#version 1.0\n",
    "\n",
    "#重复：用循环（for，while）\n",
    "#for（1>9)有明确循环次数\n",
    "#两个for嵌套循环\n",
    "\n",
    "for o in range(1,10):#控制外循环，从1到9   打印列循环\n",
    "    for i in range(1,o + 1):#内循环，每次从第一个数字开始，打印到跟行数相同的数量  打印行循环  左包括右不包括\n",
    "        print(o * i, end=\"  \")#end的作用是不让你换行，\"  \"是打印元素与打印元素之间的距离\n",
    "    print()#打印一个东西给你自动换行了\n",
    "        \n",
    "\n",
    "\n",
    "\n",
    "\n",
    "\n",
    "\n",
    "\n",
    "\n",
    "\n"
   ]
  },
  {
   "cell_type": "code",
   "execution_count": 15,
   "metadata": {},
   "outputs": [
    {
     "name": "stdout",
     "output_type": "stream",
     "text": [
      "Help on built-in function print in module builtins:\n",
      "\n",
      "print(...)\n",
      "    print(value, ..., sep=' ', end='\\n', file=sys.stdout, flush=False)\n",
      "    \n",
      "    Prints the values to a stream, or to sys.stdout by default.\n",
      "    Optional keyword arguments:\n",
      "    file:  a file-like object (stream); defaults to the current sys.stdout.\n",
      "    sep:   string inserted between values, default a space.\n",
      "    end:   string appended after the last value, default a newline.\n",
      "    flush: whether to forcibly flush the stream.\n",
      "\n"
     ]
    }
   ],
   "source": [
    "help(print)"
   ]
  },
  {
   "cell_type": "code",
   "execution_count": 21,
   "metadata": {},
   "outputs": [
    {
     "name": "stdout",
     "output_type": "stream",
     "text": [
      "1  \n",
      "2  4  \n",
      "3  6  9  \n",
      "4  8  12  16  \n",
      "5  10  15  20  25  \n",
      "6  12  18  24  30  36  \n",
      "7  14  21  28  35  42  49  \n",
      "8  16  24  32  40  48  56  64  \n",
      "9  18  27  36  45  54  63  72  81  \n",
      "1  \n",
      "2  4  \n",
      "3  6  9  \n",
      "4  8  12  16  \n",
      "5  10  15  20  25  \n",
      "6  12  18  24  30  36  \n",
      "7  14  21  28  35  42  49  \n",
      "8  16  24  32  40  48  56  64  \n",
      "9  18  27  36  45  54  63  72  81  \n",
      "1  \n",
      "2  4  \n",
      "3  6  9  \n",
      "4  8  12  16  \n",
      "5  10  15  20  25  \n",
      "6  12  18  24  30  36  \n",
      "7  14  21  28  35  42  49  \n",
      "8  16  24  32  40  48  56  64  \n",
      "9  18  27  36  45  54  63  72  81  \n",
      "1  \n",
      "2  4  \n",
      "3  6  9  \n",
      "4  8  12  16  \n",
      "5  10  15  20  25  \n",
      "6  12  18  24  30  36  \n",
      "7  14  21  28  35  42  49  \n",
      "8  16  24  32  40  48  56  64  \n",
      "9  18  27  36  45  54  63  72  81  \n"
     ]
    }
   ],
   "source": [
    "# 尝试用函数来打印九九乘法表\n",
    "\n",
    "def jiujiu():\n",
    "    for o in range(1,10):#控制外循环，从1到9   打印列循环\n",
    "        for i in range(1,o + 1):#内循环，每次从第一个数字开始，打印到跟行数相同的数量  打印行循环  左包括右不包括\n",
    "            print(o * i, end=\"  \")#end的作用是不让你换行，\"  \"是打印元素与打印元素之间的距离\n",
    "        print()#打印一个东西给你自动换行了\n",
    "\n",
    "    return None#函数最好有返回值\n",
    "        \n",
    "jiujiu()\n",
    "jiujiu()\n",
    "jiujiu()\n",
    "jiujiu()"
   ]
  },
  {
   "cell_type": "code",
   "execution_count": 27,
   "metadata": {},
   "outputs": [
    {
     "name": "stdout",
     "output_type": "stream",
     "text": [
      "1  \n",
      "2  4  \n",
      "3  6  9  \n",
      "4  8  12  16  \n",
      "5  10  15  20  25  \n",
      "6  12  18  24  30  36  \n",
      "7  14  21  28  35  42  49  \n",
      "8  16  24  32  40  48  56  64  \n",
      "9  18  27  36  45  54  63  72  81  \n"
     ]
    }
   ],
   "source": [
    "#改造上面函数\n",
    "#函数嵌套复用\n",
    "\n",
    "def printLine(line_num):#line_num为一个形参\n",
    "    '''\n",
    "    \n",
    "    line_num:代表行号，为形参，本质上是外循环o\n",
    "    \n",
    "    打印一行九九乘法表\n",
    "    \n",
    "    '''\n",
    "    for i in range(1,line_num + 1):\n",
    "        print(line_num * i, end=\"  \")\n",
    "    print()\n",
    "\n",
    "def jiujiu():\n",
    "    for o in range(1,10):\n",
    "       printLine(o)    #o为一个实参\n",
    "    return None\n",
    "\n",
    "\n",
    "jiujiu()#函数调用"
   ]
  },
  {
   "cell_type": "markdown",
   "metadata": {},
   "source": [
    "#参数详解\n",
    "-参数分类\n",
    "    -普通参数/位置参数\n",
    "    -默认参数\n",
    "    -关键字参数\n",
    "    -收集参数"
   ]
  },
  {
   "cell_type": "code",
   "execution_count": 31,
   "metadata": {},
   "outputs": [
    {
     "name": "stdout",
     "output_type": "stream",
     "text": [
      "12\n"
     ]
    }
   ],
   "source": [
    "#普通参数案例\n",
    "def normal_para(one, two, three):  #注意def后面也要跟冒号 \n",
    "    print(one + two)\n",
    "    return None\n",
    "normal_para(10,2,3)\n"
   ]
  },
  {
   "cell_type": "code",
   "execution_count": 37,
   "metadata": {},
   "outputs": [
    {
     "name": "stdout",
     "output_type": "stream",
     "text": [
      "3\n",
      "3\n"
     ]
    }
   ],
   "source": [
    "#默认参数案例\n",
    "\n",
    "def default_para(one, two, three=100):\n",
    "    print(one + two)\n",
    "    return None\n",
    "    \n",
    "default_para(1, 2)\n",
    "default_para(1,2,3)"
   ]
  },
  {
   "cell_type": "code",
   "execution_count": 39,
   "metadata": {},
   "outputs": [
    {
     "name": "stdout",
     "output_type": "stream",
     "text": [
      "3\n",
      "30\n",
      "3\n",
      "30\n"
     ]
    }
   ],
   "source": [
    "# 关键字参数\n",
    "    \n",
    "def keys_para(one, two, three):\n",
    "    print(one + two)\n",
    "    print(three)\n",
    "    return None\n",
    "\n",
    "keys_para(one=1,two=2,three=30)\n",
    "\n",
    "keys_para(three=30,two=2,one=1)"
   ]
  },
  {
   "cell_type": "markdown",
   "metadata": {},
   "source": [
    "#str字符串\n",
    "-str\n",
    "-转义字符\n",
    "-格式化\n",
    "-内建函数"
   ]
  },
  {
   "cell_type": "markdown",
   "metadata": {},
   "source": [
    "#字符串\n",
    "-表示文字信息\n",
    "-用单引号，双引号，三引号括起来"
   ]
  },
  {
   "cell_type": "markdown",
   "metadata": {},
   "source": [
    "#转义字符\n",
    "- 用一个特色的方法表示出一系列不方便写出的内容，比如说回车键，换行符，退格键\n",
    "-借助反斜杠，一旦字符串中出现反斜杠，则反斜杠后面一个或者几个字符表示已经不是原来的意思了，进行了转义\n",
    "-在字符串中，一旦出现反斜杠就要加倍小心，可能由转义字符出现\n",
    "    -window: \\n\n",
    "    -Linux :\\r\\n\n",
    "    "
   ]
  },
  {
   "cell_type": "code",
   "execution_count": 45,
   "metadata": {},
   "outputs": [
    {
     "name": "stdout",
     "output_type": "stream",
     "text": [
      "let's Go\n",
      "Let's Go\n",
      "c:\\User\\Augsnano\n",
      "Ich\n",
      "lieb\n",
      "Wangxiaojing\n"
     ]
    }
   ],
   "source": [
    "#转义字符的案例\n",
    "#想表达Let's Go\n",
    "#使用转义字符\n",
    "s = 'let\\'s Go'\n",
    "print(s)\n",
    "\n",
    "\n",
    "#使用单双引号嵌套\n",
    "s = \"Let's Go\"\n",
    "print(s)\n",
    "\n",
    "#表示斜杠\n",
    "#比如表示C：User\\Augsnano\n",
    "s = \"c:\\\\User\\\\Augsnano\"\n",
    "print(s)\n",
    "\n",
    "#表示回车换行\n",
    "#Ich\n",
    "#lieb\n",
    "#Wangxiaojing\n",
    "#Windows 下也可以使用\\r\\n,效果相同\n",
    "s = \"Ich\\nlieb\\nWangxiaojing\"\n",
    "print(s)"
   ]
  },
  {
   "cell_type": "markdown",
   "metadata": {},
   "source": [
    "# 常用的转义字符\n",
    "\n",
    "        转义字符 描述\n",
    "        \\(在行尾时)  续行符*\n",
    "        \\\\ 反斜杠符号 ***\n",
    "        \\' 单引号 *****\n",
    "        \\\" 双引号 *****\n",
    "        \\a 响铃\n",
    "        \\b 退格（backspace)\n",
    "        \\e 转义\n",
    "        \\000   空\n",
    "        \\n 换行  *****\n",
    "        \\v 纵向制表符\n",
    "        \\t 横向制表符 *****\n",
    "        \\r 回车      *****\n",
    "        \\f 换页\n",
    "        \\oyy  八进制数，yy代表的字符，例如:\\o12代表换行\n",
    "        \\xyy  十六进制数，yy代表的字符，例如：\\x0a代表换行\n",
    "        \\other 其他的字符以普通格式输出\n",
    "\n",
    "\n"
   ]
  },
  {
   "cell_type": "code",
   "execution_count": 51,
   "metadata": {},
   "outputs": [
    {
     "name": "stdout",
     "output_type": "stream",
     "text": [
      "hahahahahah\n"
     ]
    }
   ],
   "source": [
    "# 单个斜杠的用法\n",
    "# 在python里，单个斜杠表示此行未结束，出于美观，需要下一行继续\n",
    "\n",
    "def myDemo(x,  \n",
    "           y,\n",
    "           z):\n",
    "    \n",
    "    print(\"hahahahahah\")\n",
    "    \n",
    "    \n",
    "    \n",
    "    \n",
    "myDemo(1,2,3)"
   ]
  },
  {
   "cell_type": "markdown",
   "metadata": {},
   "source": [
    "# 格式化\n",
    "- 把字符串按照一定格式进行打印或者填充\n",
    "- 格式化的分类：\n",
    "    -传统的格式化\n",
    "    -format"
   ]
  },
  {
   "cell_type": "markdown",
   "metadata": {},
   "source": [
    "# 字符串传统格式化方法\n",
    "- 使用%进行格式化\n",
    "- %（百分号）也叫占位符\n",
    "        %s:字符串\n",
    "        %r:字符串，但是是使用reor而不是str\n",
    "        %c:整数转换为单个字符\n",
    "        %d：十进制整数\n",
    "        %u：无符号整数\n",
    "        %o：表示八进制\n",
    "        %x：十六进制，字母为小写（x为小写）\n",
    "        %X：十六进制，字母为大写（X为大写）\n",
    "        %e: 浮点数（e为小写），例如 2.87e+12\n",
    "        %E：浮点数（E为大写），例如 2.87E+12\n",
    "        %f，%F：浮点数十进制形式\n",
    "        %g，%G: 十进制形式浮点数或者指浮点数自动转换\n",
    "        格式字符前出现整数表示此占位符所占位置的宽度\n",
    "        格式字符前边出现'-'表示左对齐\n",
    "        格式字符前边出现'+'表示右对齐\n",
    "        0位数不足用'0'补齐\n",
    "        width表示宽度\n",
    "        pricision表示精度\n",
    "        \n",
    "        \n",
    "        "
   ]
  },
  {
   "cell_type": "code",
   "execution_count": 52,
   "metadata": {},
   "outputs": [
    {
     "name": "stdout",
     "output_type": "stream",
     "text": [
      "我喜欢%s\n",
      "我喜欢小毛\n",
      "我喜欢小🐱\n"
     ]
    }
   ],
   "source": [
    "# %s表示简单的字符串\n",
    "# 占位符可以单独使用\n",
    "\n",
    "s = \"我喜欢%s\"\n",
    "print(s)\n",
    "print(s%\"小毛\")\n",
    "print(s%\"小🐱\")\n"
   ]
  },
  {
   "cell_type": "code",
   "execution_count": 53,
   "metadata": {},
   "outputs": [
    {
     "name": "stdout",
     "output_type": "stream",
     "text": [
      "我喜欢小毛\n"
     ]
    }
   ],
   "source": [
    "print(\"我喜欢%s\"%\"小毛\")\n",
    "#占位符一般只能被同类型替换，或者替换类型能被转换成占位符的类型"
   ]
  },
  {
   "cell_type": "code",
   "execution_count": 58,
   "metadata": {},
   "outputs": [
    {
     "name": "stdout",
     "output_type": "stream",
     "text": [
      "I am %fkg weight, %fm Heigh\n",
      "I am 76.400000kg weight, 1.840000m Heigh\n",
      "I am 76.40kg weight, 1.840000.2m Heigh\n"
     ]
    }
   ],
   "source": [
    "s = \"I am %fkg weight, %fm Heigh\"\n",
    "print(s)\n",
    "print(s%(76.4,1.84))#标准格式，用括号括起来，如果需要格式化的信息多余一个，则用括号括起来即可\n",
    "#以下打印使用了默认模式，多余打出了好多个零\n",
    "s = \"I am %.2fkg weight, %f.2m Heigh\"\n",
    "print(s%(76.4,1.84))"
   ]
  },
  {
   "cell_type": "markdown",
   "metadata": {},
   "source": [
    "#format格式化\n",
    "-使用函数形式进行格式化，代替以前的百分号"
   ]
  },
  {
   "cell_type": "code",
   "execution_count": 12,
   "metadata": {},
   "outputs": [
    {
     "name": "stdout",
     "output_type": "stream",
     "text": [
      "Hello world!\n",
      "Hello world! \n",
      "world Hello! \n"
     ]
    },
    {
     "ename": "IndexError",
     "evalue": "tuple index out of range",
     "output_type": "error",
     "traceback": [
      "\u001b[1;31m---------------------------------------------------------------------------\u001b[0m",
      "\u001b[1;31mIndexError\u001b[0m                                Traceback (most recent call last)",
      "\u001b[1;32m<ipython-input-12-45b43b61acaf>\u001b[0m in \u001b[0;36m<module>\u001b[1;34m()\u001b[0m\n\u001b[0;32m     16\u001b[0m \u001b[1;33m\u001b[0m\u001b[0m\n\u001b[0;32m     17\u001b[0m \u001b[1;31m#下面案例报错，跟上面案例进行对比\u001b[0m\u001b[1;33m\u001b[0m\u001b[1;33m\u001b[0m\u001b[0m\n\u001b[1;32m---> 18\u001b[1;33m \u001b[0ms\u001b[0m \u001b[1;33m=\u001b[0m \u001b[1;34m\"{} {}! \"\u001b[0m\u001b[1;33m.\u001b[0m\u001b[0mformat\u001b[0m\u001b[1;33m(\u001b[0m\u001b[1;34m\"Hello\"\u001b[0m\u001b[1;33m)\u001b[0m\u001b[1;33m\u001b[0m\u001b[0m\n\u001b[0m\u001b[0;32m     19\u001b[0m \u001b[0mprint\u001b[0m\u001b[1;33m(\u001b[0m\u001b[0ms\u001b[0m\u001b[1;33m)\u001b[0m\u001b[1;33m\u001b[0m\u001b[0m\n\u001b[0;32m     20\u001b[0m \u001b[1;33m\u001b[0m\u001b[0m\n",
      "\u001b[1;31mIndexError\u001b[0m: tuple index out of range"
     ]
    }
   ],
   "source": [
    "#不用指定位置，按顺序读取\n",
    "#方式1\n",
    "\n",
    "s = \"{} {}!\"\n",
    "print(s.format(\"Hello\", \"world\"))\n",
    "\n",
    "#方式2\n",
    "\n",
    "s = \"{} {}! \".format(\"Hello\",\"world\")\n",
    "print(s)   #相当于打印“Hello world”\n",
    "\n",
    "#一下内容，建议听完后面函数参数再看，效果更佳\n",
    "\n",
    "\n",
    "# 设置指定位置\n",
    "\n",
    "s = \"{1} {0}! \".format(\"Hello\",\"world\")\n",
    "print(s) \n",
    "\n",
    "#下面案例报错，跟上面案例进行对比\n",
    "s = \"{} {}! \".format(\"Hello\")\n",
    "print(s) \n",
    "\n",
    "\n",
    "#使用命名参数\n",
    "\n",
    "s = \"我们是{a},我们是{b}\"\n",
    "s = s.format(a=\"带学生\", b=\"共产主义接班人\")\n",
    "print(s)"
   ]
  },
  {
   "cell_type": "code",
   "execution_count": 13,
   "metadata": {},
   "outputs": [
    {
     "name": "stdout",
     "output_type": "stream",
     "text": [
      "我们是带学生,我们是共产主义接班人\n"
     ]
    }
   ],
   "source": [
    "#使用命名参数\n",
    "\n",
    "s = \"我们是{a},我们是{b}\"\n",
    "s = s.format(a=\"带学生\", b=\"共产主义接班人\")\n",
    "print(s)"
   ]
  },
  {
   "cell_type": "code",
   "execution_count": 19,
   "metadata": {},
   "outputs": [
    {
     "name": "stdout",
     "output_type": "stream",
     "text": [
      "我们是带学生,我们是共产主义接班人\n"
     ]
    }
   ],
   "source": [
    "# 通过字典设置参数，需要解包\n",
    "#使用命名参数\n",
    "s = \"我们是{a},我们是{b}\"\n",
    "\n",
    "s_dict = {\"a\":\"带学生\",\\\n",
    "          \"b\":\"共产主义接班人\"}#注意字典后面各元素是字符，解释要接冒号\n",
    "\n",
    "s = s.format(**s_dict)\n",
    "print(s)\n"
   ]
  },
  {
   "cell_type": "code",
   "execution_count": 1,
   "metadata": {},
   "outputs": [
    {
     "name": "stdout",
     "output_type": "stream",
     "text": [
      "liu dana is 1.84m height,76.45kg weight\n"
     ]
    }
   ],
   "source": [
    "#对数字格式化需要用到\n",
    "s = \"liu dana is {:.2f}m height,{:.2f}kg weight\"\n",
    "print(s.format(1.84,76.45))\n",
    "\n",
    "\n",
    "#大括号转义案例\n",
    "s= \"format函数是使用{}来进行占位的\"\n",
    "print(s)\n",
    "\n"
   ]
  },
  {
   "cell_type": "markdown",
   "metadata": {},
   "source": [
    "#str内置函数\n",
    "-很多语言字符串用string表示，但是python中用str表示字符串"
   ]
  },
  {
   "cell_type": "code",
   "execution_count": 3,
   "metadata": {},
   "outputs": [
    {
     "name": "stdout",
     "output_type": "stream",
     "text": [
      "Help on class str in module builtins:\n",
      "\n",
      "class str(object)\n",
      " |  str(object='') -> str\n",
      " |  str(bytes_or_buffer[, encoding[, errors]]) -> str\n",
      " |  \n",
      " |  Create a new string object from the given object. If encoding or\n",
      " |  errors is specified, then the object must expose a data buffer\n",
      " |  that will be decoded using the given encoding and error handler.\n",
      " |  Otherwise, returns the result of object.__str__() (if defined)\n",
      " |  or repr(object).\n",
      " |  encoding defaults to sys.getdefaultencoding().\n",
      " |  errors defaults to 'strict'.\n",
      " |  \n",
      " |  Methods defined here:\n",
      " |  \n",
      " |  __add__(self, value, /)\n",
      " |      Return self+value.\n",
      " |  \n",
      " |  __contains__(self, key, /)\n",
      " |      Return key in self.\n",
      " |  \n",
      " |  __eq__(self, value, /)\n",
      " |      Return self==value.\n",
      " |  \n",
      " |  __format__(...)\n",
      " |      S.__format__(format_spec) -> str\n",
      " |      \n",
      " |      Return a formatted version of S as described by format_spec.\n",
      " |  \n",
      " |  __ge__(self, value, /)\n",
      " |      Return self>=value.\n",
      " |  \n",
      " |  __getattribute__(self, name, /)\n",
      " |      Return getattr(self, name).\n",
      " |  \n",
      " |  __getitem__(self, key, /)\n",
      " |      Return self[key].\n",
      " |  \n",
      " |  __getnewargs__(...)\n",
      " |  \n",
      " |  __gt__(self, value, /)\n",
      " |      Return self>value.\n",
      " |  \n",
      " |  __hash__(self, /)\n",
      " |      Return hash(self).\n",
      " |  \n",
      " |  __iter__(self, /)\n",
      " |      Implement iter(self).\n",
      " |  \n",
      " |  __le__(self, value, /)\n",
      " |      Return self<=value.\n",
      " |  \n",
      " |  __len__(self, /)\n",
      " |      Return len(self).\n",
      " |  \n",
      " |  __lt__(self, value, /)\n",
      " |      Return self<value.\n",
      " |  \n",
      " |  __mod__(self, value, /)\n",
      " |      Return self%value.\n",
      " |  \n",
      " |  __mul__(self, value, /)\n",
      " |      Return self*value.n\n",
      " |  \n",
      " |  __ne__(self, value, /)\n",
      " |      Return self!=value.\n",
      " |  \n",
      " |  __new__(*args, **kwargs) from builtins.type\n",
      " |      Create and return a new object.  See help(type) for accurate signature.\n",
      " |  \n",
      " |  __repr__(self, /)\n",
      " |      Return repr(self).\n",
      " |  \n",
      " |  __rmod__(self, value, /)\n",
      " |      Return value%self.\n",
      " |  \n",
      " |  __rmul__(self, value, /)\n",
      " |      Return self*value.\n",
      " |  \n",
      " |  __sizeof__(...)\n",
      " |      S.__sizeof__() -> size of S in memory, in bytes\n",
      " |  \n",
      " |  __str__(self, /)\n",
      " |      Return str(self).\n",
      " |  \n",
      " |  capitalize(...)\n",
      " |      S.capitalize() -> str\n",
      " |      \n",
      " |      Return a capitalized version of S, i.e. make the first character\n",
      " |      have upper case and the rest lower case.\n",
      " |  \n",
      " |  casefold(...)\n",
      " |      S.casefold() -> str\n",
      " |      \n",
      " |      Return a version of S suitable for caseless comparisons.\n",
      " |  \n",
      " |  center(...)\n",
      " |      S.center(width[, fillchar]) -> str\n",
      " |      \n",
      " |      Return S centered in a string of length width. Padding is\n",
      " |      done using the specified fill character (default is a space)\n",
      " |  \n",
      " |  count(...)\n",
      " |      S.count(sub[, start[, end]]) -> int\n",
      " |      \n",
      " |      Return the number of non-overlapping occurrences of substring sub in\n",
      " |      string S[start:end].  Optional arguments start and end are\n",
      " |      interpreted as in slice notation.\n",
      " |  \n",
      " |  encode(...)\n",
      " |      S.encode(encoding='utf-8', errors='strict') -> bytes\n",
      " |      \n",
      " |      Encode S using the codec registered for encoding. Default encoding\n",
      " |      is 'utf-8'. errors may be given to set a different error\n",
      " |      handling scheme. Default is 'strict' meaning that encoding errors raise\n",
      " |      a UnicodeEncodeError. Other possible values are 'ignore', 'replace' and\n",
      " |      'xmlcharrefreplace' as well as any other name registered with\n",
      " |      codecs.register_error that can handle UnicodeEncodeErrors.\n",
      " |  \n",
      " |  endswith(...)\n",
      " |      S.endswith(suffix[, start[, end]]) -> bool\n",
      " |      \n",
      " |      Return True if S ends with the specified suffix, False otherwise.\n",
      " |      With optional start, test S beginning at that position.\n",
      " |      With optional end, stop comparing S at that position.\n",
      " |      suffix can also be a tuple of strings to try.\n",
      " |  \n",
      " |  expandtabs(...)\n",
      " |      S.expandtabs(tabsize=8) -> str\n",
      " |      \n",
      " |      Return a copy of S where all tab characters are expanded using spaces.\n",
      " |      If tabsize is not given, a tab size of 8 characters is assumed.\n",
      " |  \n",
      " |  find(...)\n",
      " |      S.find(sub[, start[, end]]) -> int\n",
      " |      \n",
      " |      Return the lowest index in S where substring sub is found,\n",
      " |      such that sub is contained within S[start:end].  Optional\n",
      " |      arguments start and end are interpreted as in slice notation.\n",
      " |      \n",
      " |      Return -1 on failure.\n",
      " |  \n",
      " |  format(...)\n",
      " |      S.format(*args, **kwargs) -> str\n",
      " |      \n",
      " |      Return a formatted version of S, using substitutions from args and kwargs.\n",
      " |      The substitutions are identified by braces ('{' and '}').\n",
      " |  \n",
      " |  format_map(...)\n",
      " |      S.format_map(mapping) -> str\n",
      " |      \n",
      " |      Return a formatted version of S, using substitutions from mapping.\n",
      " |      The substitutions are identified by braces ('{' and '}').\n",
      " |  \n",
      " |  index(...)\n",
      " |      S.index(sub[, start[, end]]) -> int\n",
      " |      \n",
      " |      Return the lowest index in S where substring sub is found, \n",
      " |      such that sub is contained within S[start:end].  Optional\n",
      " |      arguments start and end are interpreted as in slice notation.\n",
      " |      \n",
      " |      Raises ValueError when the substring is not found.\n",
      " |  \n",
      " |  isalnum(...)\n",
      " |      S.isalnum() -> bool\n",
      " |      \n",
      " |      Return True if all characters in S are alphanumeric\n",
      " |      and there is at least one character in S, False otherwise.\n",
      " |  \n",
      " |  isalpha(...)\n",
      " |      S.isalpha() -> bool\n",
      " |      \n",
      " |      Return True if all characters in S are alphabetic\n",
      " |      and there is at least one character in S, False otherwise.\n",
      " |  \n",
      " |  isdecimal(...)\n",
      " |      S.isdecimal() -> bool\n",
      " |      \n",
      " |      Return True if there are only decimal characters in S,\n",
      " |      False otherwise.\n",
      " |  \n",
      " |  isdigit(...)\n",
      " |      S.isdigit() -> bool\n",
      " |      \n",
      " |      Return True if all characters in S are digits\n",
      " |      and there is at least one character in S, False otherwise.\n",
      " |  \n",
      " |  isidentifier(...)\n",
      " |      S.isidentifier() -> bool\n",
      " |      \n",
      " |      Return True if S is a valid identifier according\n",
      " |      to the language definition.\n",
      " |      \n",
      " |      Use keyword.iskeyword() to test for reserved identifiers\n",
      " |      such as \"def\" and \"class\".\n",
      " |  \n",
      " |  islower(...)\n",
      " |      S.islower() -> bool\n",
      " |      \n",
      " |      Return True if all cased characters in S are lowercase and there is\n",
      " |      at least one cased character in S, False otherwise.\n",
      " |  \n",
      " |  isnumeric(...)\n",
      " |      S.isnumeric() -> bool\n",
      " |      \n",
      " |      Return True if there are only numeric characters in S,\n",
      " |      False otherwise.\n",
      " |  \n",
      " |  isprintable(...)\n",
      " |      S.isprintable() -> bool\n",
      " |      \n",
      " |      Return True if all characters in S are considered\n",
      " |      printable in repr() or S is empty, False otherwise.\n",
      " |  \n",
      " |  isspace(...)\n",
      " |      S.isspace() -> bool\n",
      " |      \n",
      " |      Return True if all characters in S are whitespace\n",
      " |      and there is at least one character in S, False otherwise.\n",
      " |  \n",
      " |  istitle(...)\n",
      " |      S.istitle() -> bool\n",
      " |      \n",
      " |      Return True if S is a titlecased string and there is at least one\n",
      " |      character in S, i.e. upper- and titlecase characters may only\n",
      " |      follow uncased characters and lowercase characters only cased ones.\n",
      " |      Return False otherwise.\n",
      " |  \n",
      " |  isupper(...)\n",
      " |      S.isupper() -> bool\n",
      " |      \n",
      " |      Return True if all cased characters in S are uppercase and there is\n",
      " |      at least one cased character in S, False otherwise.\n",
      " |  \n",
      " |  join(...)\n",
      " |      S.join(iterable) -> str\n",
      " |      \n",
      " |      Return a string which is the concatenation of the strings in the\n",
      " |      iterable.  The separator between elements is S.\n",
      " |  \n",
      " |  ljust(...)\n",
      " |      S.ljust(width[, fillchar]) -> str\n",
      " |      \n",
      " |      Return S left-justified in a Unicode string of length width. Padding is\n",
      " |      done using the specified fill character (default is a space).\n",
      " |  \n",
      " |  lower(...)\n",
      " |      S.lower() -> str\n",
      " |      \n",
      " |      Return a copy of the string S converted to lowercase.\n",
      " |  \n",
      " |  lstrip(...)\n",
      " |      S.lstrip([chars]) -> str\n",
      " |      \n",
      " |      Return a copy of the string S with leading whitespace removed.\n",
      " |      If chars is given and not None, remove characters in chars instead.\n",
      " |  \n",
      " |  partition(...)\n",
      " |      S.partition(sep) -> (head, sep, tail)\n",
      " |      \n",
      " |      Search for the separator sep in S, and return the part before it,\n",
      " |      the separator itself, and the part after it.  If the separator is not\n",
      " |      found, return S and two empty strings.\n",
      " |  \n",
      " |  replace(...)\n",
      " |      S.replace(old, new[, count]) -> str\n",
      " |      \n",
      " |      Return a copy of S with all occurrences of substring\n",
      " |      old replaced by new.  If the optional argument count is\n",
      " |      given, only the first count occurrences are replaced.\n",
      " |  \n",
      " |  rfind(...)\n",
      " |      S.rfind(sub[, start[, end]]) -> int\n",
      " |      \n",
      " |      Return the highest index in S where substring sub is found,\n",
      " |      such that sub is contained within S[start:end].  Optional\n",
      " |      arguments start and end are interpreted as in slice notation.\n",
      " |      \n",
      " |      Return -1 on failure.\n",
      " |  \n",
      " |  rindex(...)\n",
      " |      S.rindex(sub[, start[, end]]) -> int\n",
      " |      \n",
      " |      Return the highest index in S where substring sub is found,\n",
      " |      such that sub is contained within S[start:end].  Optional\n",
      " |      arguments start and end are interpreted as in slice notation.\n",
      " |      \n",
      " |      Raises ValueError when the substring is not found.\n",
      " |  \n",
      " |  rjust(...)\n",
      " |      S.rjust(width[, fillchar]) -> str\n",
      " |      \n",
      " |      Return S right-justified in a string of length width. Padding is\n",
      " |      done using the specified fill character (default is a space).\n",
      " |  \n",
      " |  rpartition(...)\n",
      " |      S.rpartition(sep) -> (head, sep, tail)\n",
      " |      \n",
      " |      Search for the separator sep in S, starting at the end of S, and return\n",
      " |      the part before it, the separator itself, and the part after it.  If the\n",
      " |      separator is not found, return two empty strings and S.\n",
      " |  \n",
      " |  rsplit(...)\n",
      " |      S.rsplit(sep=None, maxsplit=-1) -> list of strings\n",
      " |      \n",
      " |      Return a list of the words in S, using sep as the\n",
      " |      delimiter string, starting at the end of the string and\n",
      " |      working to the front.  If maxsplit is given, at most maxsplit\n",
      " |      splits are done. If sep is not specified, any whitespace string\n",
      " |      is a separator.\n",
      " |  \n",
      " |  rstrip(...)\n",
      " |      S.rstrip([chars]) -> str\n",
      " |      \n",
      " |      Return a copy of the string S with trailing whitespace removed.\n",
      " |      If chars is given and not None, remove characters in chars instead.\n",
      " |  \n",
      " |  split(...)\n",
      " |      S.split(sep=None, maxsplit=-1) -> list of strings\n",
      " |      \n",
      " |      Return a list of the words in S, using sep as the\n",
      " |      delimiter string.  If maxsplit is given, at most maxsplit\n",
      " |      splits are done. If sep is not specified or is None, any\n",
      " |      whitespace string is a separator and empty strings are\n",
      " |      removed from the result.\n",
      " |  \n",
      " |  splitlines(...)\n",
      " |      S.splitlines([keepends]) -> list of strings\n",
      " |      \n",
      " |      Return a list of the lines in S, breaking at line boundaries.\n",
      " |      Line breaks are not included in the resulting list unless keepends\n",
      " |      is given and true.\n",
      " |  \n",
      " |  startswith(...)\n",
      " |      S.startswith(prefix[, start[, end]]) -> bool\n",
      " |      \n",
      " |      Return True if S starts with the specified prefix, False otherwise.\n",
      " |      With optional start, test S beginning at that position.\n",
      " |      With optional end, stop comparing S at that position.\n",
      " |      prefix can also be a tuple of strings to try.\n",
      " |  \n",
      " |  strip(...)\n",
      " |      S.strip([chars]) -> str\n",
      " |      \n",
      " |      Return a copy of the string S with leading and trailing\n",
      " |      whitespace removed.\n",
      " |      If chars is given and not None, remove characters in chars instead.\n",
      " |  \n",
      " |  swapcase(...)\n",
      " |      S.swapcase() -> str\n",
      " |      \n",
      " |      Return a copy of S with uppercase characters converted to lowercase\n",
      " |      and vice versa.\n",
      " |  \n",
      " |  title(...)\n",
      " |      S.title() -> str\n",
      " |      \n",
      " |      Return a titlecased version of S, i.e. words start with title case\n",
      " |      characters, all remaining cased characters have lower case.\n",
      " |  \n",
      " |  translate(...)\n",
      " |      S.translate(table) -> str\n",
      " |      \n",
      " |      Return a copy of the string S in which each character has been mapped\n",
      " |      through the given translation table. The table must implement\n",
      " |      lookup/indexing via __getitem__, for instance a dictionary or list,\n",
      " |      mapping Unicode ordinals to Unicode ordinals, strings, or None. If\n",
      " |      this operation raises LookupError, the character is left untouched.\n",
      " |      Characters mapped to None are deleted.\n",
      " |  \n",
      " |  upper(...)\n",
      " |      S.upper() -> str\n",
      " |      \n",
      " |      Return a copy of S converted to uppercase.\n",
      " |  \n",
      " |  zfill(...)\n",
      " |      S.zfill(width) -> str\n",
      " |      \n",
      " |      Pad a numeric string S with zeros on the left, to fill a field\n",
      " |      of the specified width. The string S is never truncated.\n",
      " |  \n",
      " |  ----------------------------------------------------------------------\n",
      " |  Static methods defined here:\n",
      " |  \n",
      " |  maketrans(x, y=None, z=None, /)\n",
      " |      Return a translation table usable for str.translate().\n",
      " |      \n",
      " |      If there is only one argument, it must be a dictionary mapping Unicode\n",
      " |      ordinals (integers) or characters to Unicode ordinals, strings or None.\n",
      " |      Character keys will be then converted to ordinals.\n",
      " |      If there are two arguments, they must be strings of equal length, and\n",
      " |      in the resulting dictionary, each character in x will be mapped to the\n",
      " |      character at the same position in y. If there is a third argument, it\n",
      " |      must be a string, whose characters will be mapped to None in the result.\n",
      "\n"
     ]
    }
   ],
   "source": [
    "help(str)"
   ]
  },
  {
   "cell_type": "markdown",
   "metadata": {},
   "source": [
    "#str内置函数\n",
    "-字符串查找类，find，index，islower\n",
    "-find:查找字符串中是否包含一个子串\n",
    "-index:跟find的唯一区别是index如果找不到会报错\n",
    "-rfind，lfind：从左开始查找或者从右开始查找\n",
    "-islower：判断字符串是否大写还是小写"
   ]
  },
  {
   "cell_type": "code",
   "execution_count": 2,
   "metadata": {},
   "outputs": [
    {
     "data": {
      "text/plain": [
       "-1"
      ]
     },
     "execution_count": 2,
     "metadata": {},
     "output_type": "execute_result"
    }
   ],
   "source": [
    "s = \"huang yan ming xihuan xiao mao\"\n",
    "s1 = \"xiao\"\n",
    "#返回第一次发现这个字符串的位置\n",
    "s.find(s1)\n",
    "\n",
    "#如果找不到字串表明没有找到，返回-1\n",
    "\n",
    "s2 = \"damao\"\n",
    "s.find(s2)\n",
    "\n"
   ]
  },
  {
   "cell_type": "code",
   "execution_count": 3,
   "metadata": {},
   "outputs": [
    {
     "name": "stdout",
     "output_type": "stream",
     "text": [
      "Help on method_descriptor:\n",
      "\n",
      "find(...)\n",
      "    S.find(sub[, start[, end]]) -> int\n",
      "    \n",
      "    Return the lowest index in S where substring sub is found,\n",
      "    such that sub is contained within S[start:end].  Optional\n",
      "    arguments start and end are interpreted as in slice notation.\n",
      "    \n",
      "    Return -1 on failure.\n",
      "\n"
     ]
    }
   ],
   "source": [
    "help(str.find)"
   ]
  },
  {
   "cell_type": "code",
   "execution_count": 6,
   "metadata": {},
   "outputs": [
    {
     "data": {
      "text/plain": [
       "22"
      ]
     },
     "execution_count": 6,
     "metadata": {},
     "output_type": "execute_result"
    }
   ],
   "source": [
    "#index会报错或者引发异常\n",
    "s.index(s1)"
   ]
  },
  {
   "cell_type": "code",
   "execution_count": 14,
   "metadata": {},
   "outputs": [
    {
     "data": {
      "text/plain": [
       "34"
      ]
     },
     "execution_count": 14,
     "metadata": {},
     "output_type": "execute_result"
    }
   ],
   "source": [
    "#使用的时候还可以使用区间\n",
    "s = \"huang yan ming xihuan xiaomao and xiaomao\"\n",
    "s1 = \"xiaomao\"\n",
    "\n",
    "#从下表22以后开始查找\n",
    "s.find(s1,25)"
   ]
  },
  {
   "cell_type": "markdown",
   "metadata": {},
   "source": [
    "###判断类函数\n",
    "-此类函数的特点一般都用is开头，比如islower\n",
    "-isalpha：判断是否是字母，需要注意的两点：\n",
    "    -此函数默认的前提是字符串至少包含一个字符，如果没有，同样返回False。\n",
    "    -汉字被认为是alpha，所以，此函数不能作为区分英语字母还是汉字的标识，区分中英文请使用unicode码\n",
    "    -注意区别使用，防止被坑\n",
    "-isdigit，isnumeric，isdecimal三个判断数字的函数\n",
    "    -此类函数不建议使用，再后期爬虫中，判断是否是数字建议采用正则表达式的方式\n",
    "\n",
    "                对着三个函数的一个总结是：\n",
    "                digit:\n",
    "                true:unicode数字，byte数字（单字节），全角数字（双字节），罗马数字\n",
    "                false:汉字数字\n",
    "                error：无"
   ]
  },
  {
   "cell_type": "code",
   "execution_count": 15,
   "metadata": {},
   "outputs": [
    {
     "name": "stdout",
     "output_type": "stream",
     "text": [
      "False\n",
      "False\n",
      "False\n"
     ]
    }
   ],
   "source": [
    "#以下三个都不是的，因为有除了字母以外的空格等\n",
    "s1 = \"我们对着流行许愿，我想做个带善人\"\n",
    "s2 = \"bengberba is friend of baberbeng\"\n",
    "s3 = \"tulingxueyuan.com is the 1st\"\n",
    "\n",
    "\n",
    "\n",
    "print(s1.isalpha())\n",
    "print(s2.isalpha())\n",
    "print(s3.isalpha())"
   ]
  },
  {
   "cell_type": "code",
   "execution_count": 16,
   "metadata": {},
   "outputs": [
    {
     "name": "stdout",
     "output_type": "stream",
     "text": [
      "False\n",
      "True\n",
      "False\n"
     ]
    }
   ],
   "source": [
    "#需要注意的是，因为输入法的问题，输入汉字数字可能得不到我们想要的结果\n",
    "\n",
    "chin_num = \"一二三四\"\n",
    "print(chin_num.isdigit())\n",
    "print(chin_num.isnumeric())\n",
    "print(chin_num.isdecimal())\n"
   ]
  },
  {
   "cell_type": "code",
   "execution_count": 17,
   "metadata": {},
   "outputs": [
    {
     "name": "stdout",
     "output_type": "stream",
     "text": [
      "Help on method_descriptor:\n",
      "\n",
      "islower(...)\n",
      "    S.islower() -> bool\n",
      "    \n",
      "    Return True if all cased characters in S are lowercase and there is\n",
      "    at least one cased character in S, False otherwise.\n",
      "\n"
     ]
    }
   ],
   "source": [
    "help(str.islower)"
   ]
  },
  {
   "cell_type": "code",
   "execution_count": 18,
   "metadata": {},
   "outputs": [
    {
     "name": "stdout",
     "output_type": "stream",
     "text": [
      "False\n"
     ]
    }
   ],
   "source": [
    "s = \"DAMAO WOXIHUANNIA XIAOMAOWOYEXIHUANNIA\"\n",
    "print(s.islower())"
   ]
  },
  {
   "cell_type": "markdown",
   "metadata": {},
   "source": [
    "###  内容判断类\n",
    "- startswith/endswith:是否以xxx开头或者结尾\n",
    "    - 检测某个字符串是否以某个子串开头，常用三个参数\n",
    "    - suffix：被检查的字符串，必须有\n",
    "    - start：检查范围的开始\n",
    "    - end:检查字符串的结束范围\n",
    "- islower/isupper:判断字符串是否大写或者小写"
   ]
  },
  {
   "cell_type": "markdown",
   "metadata": {},
   "source": [
    "### 操作类函数\n",
    "- format:格式化用的\n",
    "- strip:这个函数主要作用是删除字符串两边的空格，其实这个函数允许你去定义删除字符串两边的\n",
    "哪个字符，只不过如果不指定的话默认是空格。同样还有lstrip和rstrip,此处l和r分别表示左边右\n",
    "边，即删除字符串左边或者右边制定字符，默认空格。需要注意的死，此处删除不是删除一个，是指\n",
    "从开头符合条件的连续字符\n",
    "- strip相似的函数还包括lstrip,rstrip\n",
    "- join:这个函数的主要对字符串进行拼接。它需要一个可以迭代的内容作为参数（迭代的概念后面介\n",
    "绍，此处暂时理解成一个列表），功能是把可迭代的字符串拼接在一起，中间使用调用字符串作为分隔符\n",
    "    "
   ]
  },
  {
   "cell_type": "code",
   "execution_count": 1,
   "metadata": {},
   "outputs": [
    {
     "name": "stdout",
     "output_type": "stream",
     "text": [
      "Help on method_descriptor:\n",
      "\n",
      "strip(...)\n",
      "    S.strip([chars]) -> str\n",
      "    \n",
      "    Return a copy of the string S with leading and trailing\n",
      "    whitespace removed.\n",
      "    If chars is given and not None, remove characters in chars instead.\n",
      "\n"
     ]
    }
   ],
   "source": [
    "help(str.strip\n",
    "    )"
   ]
  },
  {
   "cell_type": "code",
   "execution_count": 5,
   "metadata": {},
   "outputs": [
    {
     "name": "stdout",
     "output_type": "stream",
     "text": [
      "N$M$S$L\n",
      "N@M@S@L\n",
      "N*M*S*L\n"
     ]
    }
   ],
   "source": [
    "#join的例子，我们需要使用s1,s2,s3,作为分隔符，把ss内的内容拼接在一起\n",
    "s1 = \"$\"\n",
    "s2 = \"@\"\n",
    "s3 = \"*\"\n",
    "ss = [\"N\", \"M\", \"S\", \"L\"]\n",
    "print(s1.join(ss))\n",
    "print(s2.join(ss))\n",
    "print(s3.join(ss))\n",
    "      "
   ]
  },
  {
   "cell_type": "markdown",
   "metadata": {},
   "source": [
    "# "
   ]
  }
 ],
 "metadata": {
  "kernelspec": {
   "display_name": "Python 3",
   "language": "python",
   "name": "python3"
  },
  "language_info": {
   "codemirror_mode": {
    "name": "ipython",
    "version": 3
   },
   "file_extension": ".py",
   "mimetype": "text/x-python",
   "name": "python",
   "nbconvert_exporter": "python",
   "pygments_lexer": "ipython3",
   "version": "3.6.4"
  }
 },
 "nbformat": 4,
 "nbformat_minor": 2
}
