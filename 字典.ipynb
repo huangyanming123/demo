{
 "cells": [
  {
   "cell_type": "code",
   "execution_count": 1,
   "metadata": {},
   "outputs": [
    {
     "name": "stdout",
     "output_type": "stream",
     "text": [
      "green\n",
      "5\n"
     ]
    }
   ],
   "source": [
    "alien_0 = {'color':'green','points':5} #color是一个键，与之关联的值是'green'\n",
    "\n",
    "print(alien_0['color'])  #[ ]中是元素名称，打印出来的是键值，即：后面的内容\n",
    "print(alien_0['points'])"
   ]
  },
  {
   "cell_type": "code",
   "execution_count": 3,
   "metadata": {},
   "outputs": [
    {
     "name": "stdout",
     "output_type": "stream",
     "text": [
      "You just earned 5 points\n"
     ]
    }
   ],
   "source": [
    "# 6.2.1 访问字典中的值\n",
    "new_points = alien_0['points']\n",
    "print(\"You just earned \" + str(new_points) + \" points\")"
   ]
  },
  {
   "cell_type": "code",
   "execution_count": 4,
   "metadata": {},
   "outputs": [
    {
     "name": "stdout",
     "output_type": "stream",
     "text": [
      "{'color': 'green', 'points': 5}\n",
      "{'color': 'green', 'points': 5, 'x_position': 0, 'y_position': 25}\n"
     ]
    }
   ],
   "source": [
    "#6.2.2添加键-值对\n",
    "\n",
    "print(alien_0)\n",
    "alien_0['x_position'] = 0\n",
    "alien_0['y_position'] = 25\n",
    "print(alien_0)"
   ]
  },
  {
   "cell_type": "code",
   "execution_count": 5,
   "metadata": {},
   "outputs": [
    {
     "name": "stdout",
     "output_type": "stream",
     "text": [
      "{'color': 'green', 'points': 5}\n"
     ]
    }
   ],
   "source": [
    "#6.2.3 先创建一个空字典\n",
    "alien_1 = {}\n",
    "alien_1['color'] = 'green'\n",
    "alien_1['points'] = 5\n",
    "print(alien_1)"
   ]
  },
  {
   "cell_type": "code",
   "execution_count": 8,
   "metadata": {},
   "outputs": [
    {
     "name": "stdout",
     "output_type": "stream",
     "text": [
      "The alien is green.\n",
      "The alien is now yellow.\n"
     ]
    }
   ],
   "source": [
    "#6.2.4 修改字典中的值\n",
    "alien_2 = {'color':'green'}\n",
    "print(\"The alien is \" + alien_2['color'] + \".\")\n",
    "alien_2['color'] = 'yellow'\n",
    "print(\"The alien is now \" + alien_2['color'] + \".\")"
   ]
  },
  {
   "cell_type": "code",
   "execution_count": 10,
   "metadata": {},
   "outputs": [
    {
     "name": "stdout",
     "output_type": "stream",
     "text": [
      "{'color': 'yellow'}\n"
     ]
    }
   ],
   "source": [
    "#6.2.5删除键值对\n",
    "#可用del语句将相应的键-值对彻底清除\n",
    "\n",
    "del alien_1['points']\n",
    "print(alien_1)"
   ]
  },
  {
   "cell_type": "code",
   "execution_count": 23,
   "metadata": {},
   "outputs": [
    {
     "name": "stdout",
     "output_type": "stream",
     "text": [
      "Jen favourite lanuage is Python .\n"
     ]
    }
   ],
   "source": [
    "#6.2.6由类似对象组成的字典\n",
    "favourite_languages = {\n",
    "    'jen':'python',\n",
    "    'sarah':'c',\n",
    "    'edward':'java',\n",
    "    'phil':'ui',\n",
    "    }\n",
    "\n",
    "print(\"Jen favourite lanuage is \" +\n",
    "     favourite_languages['jen'].title() +\n",
    "     \" .\")"
   ]
  },
  {
   "cell_type": "code",
   "execution_count": 29,
   "metadata": {},
   "outputs": [
    {
     "name": "stdout",
     "output_type": "stream",
     "text": [
      "\n",
      "Key:username\n",
      "\n",
      "Value:efermi\n",
      "\n",
      "Key:first\n",
      "\n",
      "Value:enrico\n",
      "\n",
      "Key:last\n",
      "\n",
      "Value:fermi\n"
     ]
    }
   ],
   "source": [
    "#6.3遍历字典\n",
    "#6.3.1 遍历所有的键-值对  #key:键-value:值\n",
    "user_0 = {\n",
    "    'username':'efermi',\n",
    "    'first':'enrico',\n",
    "    'last':'fermi',\n",
    "    }\n",
    "for key,value in user_0.items():  #items字典中的每一个项目\n",
    "    print(\"\\nKey:\" + key)\n",
    "    print(\"\\nValue:\" + value)"
   ]
  },
  {
   "cell_type": "code",
   "execution_count": 31,
   "metadata": {},
   "outputs": [
    {
     "name": "stdout",
     "output_type": "stream",
     "text": [
      "Jen\n",
      "Sarah\n",
      "Edward\n",
      "Phil\n",
      "====================\n",
      "Python\n",
      "C\n",
      "Java\n",
      "Ui\n"
     ]
    }
   ],
   "source": [
    "# 6.3.2 遍历字典中的所有键\n",
    "for name in favourite_languages.keys():\n",
    "    print(name.title())\n",
    "print(\"=\" * 20)\n",
    "\n",
    "for languages in favourite_languages.values():\n",
    "    print(languages.title())"
   ]
  },
  {
   "cell_type": "code",
   "execution_count": 34,
   "metadata": {},
   "outputs": [
    {
     "name": "stdout",
     "output_type": "stream",
     "text": [
      "Edward\n",
      "Jen\n",
      "Phil\n",
      "Sarah\n"
     ]
    }
   ],
   "source": [
    "# 6.3.3 按顺序遍历字典中的所有键\n",
    "#要以特定的顺序返回元素，一种办法是在for循环中对返回的键进行排序。为此，可使用函数sorted()来获得按特定顺序排列键列表的副本\n",
    "favourite_languages = {\n",
    "    'jen':'python',\n",
    "    'sarah':'c',\n",
    "    'edward':'java',\n",
    "    'phil':'ui',\n",
    "    }\n",
    "\n",
    "for name in sorted(favourite_languages.keys()):\n",
    "    print(name.title())"
   ]
  },
  {
   "cell_type": "code",
   "execution_count": 33,
   "metadata": {},
   "outputs": [
    {
     "name": "stdout",
     "output_type": "stream",
     "text": [
      "Help on built-in function sorted in module builtins:\n",
      "\n",
      "sorted(iterable, /, *, key=None, reverse=False)\n",
      "    Return a new list containing all items from the iterable in ascending order.\n",
      "    \n",
      "    A custom key function can be supplied to customize the sort order, and the\n",
      "    reverse flag can be set to request the result in descending order.\n",
      "\n"
     ]
    }
   ],
   "source": [
    "help(sorted\n",
    "    )"
   ]
  },
  {
   "cell_type": "markdown",
   "metadata": {},
   "source": [
    "# 6.4嵌套\n",
    "- 需要将一系列字典储存在列表中，或将列表作为值储存在字典中，这称为嵌套\n",
    "-      列表——>字典\n",
    "-      字典——>列表\n",
    "-      字典——>字典"
   ]
  },
  {
   "cell_type": "code",
   "execution_count": 36,
   "metadata": {},
   "outputs": [
    {
     "name": "stdout",
     "output_type": "stream",
     "text": [
      "{'color': 'green', 'points': 5}\n",
      "{'color': 'yellow', 'points': 10}\n",
      "{'color': 'red', 'points': 15}\n"
     ]
    }
   ],
   "source": [
    "#6.4.1 字典列表(列表中嵌套字典)\n",
    "alien_0 = {'color':'green', 'points':5}\n",
    "alien_1 = {'color':'yellow', 'points':10}\n",
    "alien_2 = {'color':'red', 'points':15}\n",
    "\n",
    "aliens = [alien_0,alien_1,alien_2]\n",
    "for alien in aliens:\n",
    "    print(alien)"
   ]
  },
  {
   "cell_type": "code",
   "execution_count": 42,
   "metadata": {},
   "outputs": [
    {
     "name": "stdout",
     "output_type": "stream",
     "text": [
      "{'color': 'green', 'points': 5, 'speed': 'slow'}\n",
      "{'color': 'green', 'points': 5, 'speed': 'slow'}\n",
      "{'color': 'green', 'points': 5, 'speed': 'slow'}\n",
      "{'color': 'green', 'points': 5, 'speed': 'slow'}\n",
      "{'color': 'green', 'points': 5, 'speed': 'slow'}\n",
      "...\n",
      "Total number of aliens:30.\n"
     ]
    }
   ],
   "source": [
    "#使用range()生成30个外星人\n",
    "aliens = []\n",
    "\n",
    "#创建30个绿色的外星人\n",
    "\n",
    "for alien_number in range(30):\n",
    "    new_alien = {'color':'green', 'points':5, 'speed':'slow'}\n",
    "    aliens.append(new_alien)           #将其附加到列表aliens末尾\n",
    "for alien in aliens[:5]:\n",
    "    print(alien)\n",
    "print(\"...\")\n",
    "\n",
    "print(\"Total number of aliens:\" + str(len(aliens)) + '.')\n",
    "\n",
    "\n",
    "\n"
   ]
  },
  {
   "cell_type": "code",
   "execution_count": 45,
   "metadata": {},
   "outputs": [
    {
     "name": "stdout",
     "output_type": "stream",
     "text": [
      "You ordered athick-crust pizza with the following toppings:\n",
      "\tmushrooms\n",
      "\textra cheese\n"
     ]
    }
   ],
   "source": [
    "# 6.4.2 在字典中储存列表\n",
    "pizza = {'crust':'thick',\n",
    "         'toppings':['mushrooms','extra cheese'], #在字典中储存列表\n",
    "        }\n",
    "print(\"You ordered a\" + pizza['crust'] + \"-crust pizza with the following toppings:\")\n",
    "\n",
    "for topping in pizza['toppings']:\n",
    "    print(\"\\t\"+topping)"
   ]
  },
  {
   "cell_type": "code",
   "execution_count": 48,
   "metadata": {},
   "outputs": [
    {
     "name": "stdout",
     "output_type": "stream",
     "text": [
      "\n",
      "Username:xiaoming\n",
      "\tFull name:Marie Curie\n",
      "\tLocation:Paris\n",
      "\n",
      "Username:xiaomao\n",
      "\tFull name:Albert Curie\n",
      "\tLocation:Paris\n"
     ]
    }
   ],
   "source": [
    "# 6.4.3 在字典中储存字典\n",
    "\n",
    "users = {\n",
    "    'xiaoming':{\n",
    "        'first':'marie',\n",
    "        'last':'curie',\n",
    "        'location':'paris',\n",
    "    },\n",
    "    \n",
    "    'xiaomao':{\n",
    "        'first':'albert',\n",
    "        'last':'curie',\n",
    "        'location':'paris',\n",
    "    },\n",
    "}\n",
    "\n",
    "\n",
    "for username,user_info in users.items():\n",
    "    print(\"\\nUsername:\" + username)\n",
    "    full_name = user_info['first']+\" \"+user_info['last']\n",
    "    location = user_info['location']\n",
    "    \n",
    "    print(\"\\tFull name:\" + full_name.title())\n",
    "    print(\"\\tLocation:\" + location.title())\n",
    "\n",
    "\n",
    "\n",
    "\n",
    "\n"
   ]
  },
  {
   "cell_type": "code",
   "execution_count": null,
   "metadata": {},
   "outputs": [],
   "source": []
  }
 ],
 "metadata": {
  "kernelspec": {
   "display_name": "Python 3",
   "language": "python",
   "name": "python3"
  },
  "language_info": {
   "codemirror_mode": {
    "name": "ipython",
    "version": 3
   },
   "file_extension": ".py",
   "mimetype": "text/x-python",
   "name": "python",
   "nbconvert_exporter": "python",
   "pygments_lexer": "ipython3",
   "version": "3.6.4"
  }
 },
 "nbformat": 4,
 "nbformat_minor": 2
}
