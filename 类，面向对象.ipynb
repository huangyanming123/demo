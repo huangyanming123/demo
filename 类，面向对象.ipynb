{
 "cells": [
  {
   "cell_type": "markdown",
   "metadata": {},
   "source": [
    "# OOP\n",
    "- 思想\n",
    "    -以模块化思想解决工程问题\n",
    "    -面向过程 vs 面向对象\n",
    "    -由面向过程转向面向对象\n",
    "    -例子，我要开一个学校，叫xxxx，主要讲xxx\n",
    "        - 讲师\n",
    "        - 学生\n",
    "        - 班主任\n",
    "        - 教室\n",
    "        - 学校\n",
    "- 常用名词\n",
    "    - oo： 面向对象\n",
    "    - ooa：分析\n",
    "    - ood：设计\n",
    "    - oop：编程\n",
    "    - ool：现实\n",
    "    - ooa -> ood-> ool\n",
    "    \n",
    "- 类 vs 对象\n",
    "    -类：抽象，描述的是一个集合，侧重于共性\n",
    "    -对象：具象，描述的是个体\n",
    "- 类的内容：\n",
    "    -动作，函数\n",
    "    -属性，变量\n",
    "- is-a\n",
    "\n",
    "- 定义类：class关键字\n",
    "- 类命名：\n",
    "    - 遵守大驼峰\n",
    "    - 第一个字母大写\n",
    "\n",
    "\n",
    "\n"
   ]
  },
  {
   "cell_type": "code",
   "execution_count": 1,
   "metadata": {},
   "outputs": [],
   "source": [
    "## 定义学生类，和几个学生\n",
    "\n",
    "class Studnt():\n",
    "    #此处定义一个空类\n",
    "    #pass是关键字，表示占用符，无意义\n",
    "    \n",
    "    pass"
   ]
  },
  {
   "cell_type": "code",
   "execution_count": 2,
   "metadata": {},
   "outputs": [],
   "source": [
    "class StudentNoPass():\n",
    "    pass"
   ]
  },
  {
   "cell_type": "code",
   "execution_count": 4,
   "metadata": {},
   "outputs": [],
   "source": [
    "# 定义一个对象\n",
    "xxxxxbai = Student()"
   ]
  },
  {
   "cell_type": "code",
   "execution_count": 5,
   "metadata": {},
   "outputs": [
    {
     "name": "stdout",
     "output_type": "stream",
     "text": [
      "NoOne\n",
      "18\n",
      "python\n"
     ]
    }
   ],
   "source": [
    "# \n",
    "class PythonStudent():\n",
    "    name = \"NoOne\"\n",
    "    age = 18\n",
    "    course = \"python\"#类似与结构体成员变量\n",
    "    \n",
    "    '''\n",
    "    定义类中的函数\n",
    "    一般需要有self关键字\n",
    "    其余跟普通函数基本相同\n",
    "     \n",
    "    '''\n",
    "    \n",
    "    def giveMeMoney():\n",
    "        print(\"Show me the money\")\n",
    "        return None\n",
    "xiaomao = PythonStudent()\n",
    "print(xiaomao.name)\n",
    "print(xiaomao.age)\n",
    "print(xiaomao.course)"
   ]
  },
  {
   "cell_type": "code",
   "execution_count": null,
   "metadata": {},
   "outputs": [],
   "source": []
  }
 ],
 "metadata": {
  "kernelspec": {
   "display_name": "Python 3",
   "language": "python",
   "name": "python3"
  },
  "language_info": {
   "codemirror_mode": {
    "name": "ipython",
    "version": 3
   },
   "file_extension": ".py",
   "mimetype": "text/x-python",
   "name": "python",
   "nbconvert_exporter": "python",
   "pygments_lexer": "ipython3",
   "version": "3.6.4"
  }
 },
 "nbformat": 4,
 "nbformat_minor": 2
}
