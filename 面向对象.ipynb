{
 "cells": [
  {
   "cell_type": "markdown",
   "metadata": {},
   "source": [
    "# 类的属性"
   ]
  },
  {
   "cell_type": "code",
   "execution_count": 13,
   "metadata": {},
   "outputs": [],
   "source": [
    "# 类的例子\n",
    "# 注意类的定义\n",
    "class Student():\n",
    "    # name，age属于类的变量\n",
    "    # 注意类的变量的定义位置和方法\n",
    "    # 不需要前缀\n",
    "    name = \"西南科技大学\"\n",
    "    age = 19\n",
    "    \n",
    "    def sayHi(self):\n",
    "        print(\"爱xiaomao，爱生活\")\n",
    "        return None\n",
    "    def sayHai(name):\n",
    "        print(\"爱xiaomao，爱生活\")\n",
    "        return None"
   ]
  },
  {
   "cell_type": "code",
   "execution_count": 14,
   "metadata": {},
   "outputs": [
    {
     "name": "stdout",
     "output_type": "stream",
     "text": [
      "<__main__.Student object at 0x000001412F984748>\n"
     ]
    }
   ],
   "source": [
    "# 实例化\n",
    "# 作业：中文能否当做变量名称\n",
    "\n",
    "小明 = Student()\n",
    "\n",
    "print(小明)\n"
   ]
  },
  {
   "cell_type": "markdown",
   "metadata": {},
   "source": [
    "# self\n",
    "- self可以用别的名称代替\n",
    "- self不是关键字\n",
    "- 作用是指代本身"
   ]
  },
  {
   "cell_type": "code",
   "execution_count": 15,
   "metadata": {},
   "outputs": [
    {
     "name": "stdout",
     "output_type": "stream",
     "text": [
      "爱xiaomao，爱生活\n"
     ]
    }
   ],
   "source": [
    "# self\n",
    "\n",
    "# 实例调用函数\n",
    "\n",
    "xiaomao = Student()\n",
    "#让xiaomao跟我打招呼\n",
    "# xiaomao调用sayHi没有输入参数\n",
    "#因为默认实例作为第一个参数传入\n",
    "xiaomao.sayHi()\n",
    "\n"
   ]
  },
  {
   "cell_type": "code",
   "execution_count": 18,
   "metadata": {},
   "outputs": [
    {
     "name": "stdout",
     "output_type": "stream",
     "text": [
      "爱xiaomao，爱生活\n"
     ]
    }
   ],
   "source": [
    "# 参看sayHai的定义，说明self的名称可更改\n",
    "xiaomao.sayHai()\n"
   ]
  },
  {
   "cell_type": "markdown",
   "metadata": {},
   "source": [
    "# 类的变量作用域的问题\n",
    "- 类变量：属于类自己的变量\n",
    "- 实例变量：属于实例的变量\n",
    "- 访问实例的属性，如果实例没有定义自己的属性，则自动访问类的属性，如果类也无定义，报错"
   ]
  },
  {
   "cell_type": "code",
   "execution_count": 21,
   "metadata": {},
   "outputs": [
    {
     "name": "stdout",
     "output_type": "stream",
     "text": [
      "my name is 西南科技大学 , i am 19 years old\n"
     ]
    }
   ],
   "source": [
    "# 注意类的定义\n",
    "class Student():\n",
    "    # name，age属于类的变量\n",
    "    # 注意类的变量的定义位置和方法\n",
    "    # 不需要前缀\n",
    "    name = \"西南科技大学\"# 类变量\n",
    "    age = 19\n",
    "    \n",
    "    def sayHai(self):\n",
    "        print(\"my name is {} , i am {} years old\".format(self.name, self.age))#实例变量,xiaomao是中间桥梁\n",
    "\n",
    "        return None\n",
    "    \n",
    "    \n",
    "    \n",
    "    # 以下案例说明，实例变量可以借助类的变量\n",
    "xiaomao = Student()  \n",
    "xiaomao.sayHai()   #.是访问属性的\n",
    "    \n",
    "    \n",
    "        \n",
    "    "
   ]
  },
  {
   "cell_type": "code",
   "execution_count": 29,
   "metadata": {},
   "outputs": [
    {
     "name": "stdout",
     "output_type": "stream",
     "text": [
      "my name is xiaomao , i am 18 years old\n",
      "my name is xiaoming, i am 19 years old\n",
      "my name is xiaomao, i am 18 years old\n",
      "18\n"
     ]
    }
   ],
   "source": [
    "class Student2():\n",
    "    # name，age属于类的变量\n",
    "    # 注意类的变量的定义位置和方法\n",
    "    # 不需要前缀\n",
    "    name = \"xiaoming\"# 类变量\n",
    "    age = 19\n",
    "    \n",
    "    def sayHi(self, n, a ):\n",
    "        self.name = n\n",
    "        self.age = a\n",
    "        \n",
    "        print(\"my name is {} , i am {} years old\".format(self.name, self.age))#实例变量,xiaomao是中间桥梁\n",
    "        return None\n",
    "       \n",
    "# 以下案例说明，实例变量可以借助类的变量\n",
    "xiaomao = Student2()  \n",
    "xiaomao.sayHi(\"xiaomao\",18) #xiaomao 会进去替换 self\n",
    "print(\"my name is {}, i am {} years old\".format(Student2.name,Student2.age))\n",
    "print(\"my name is {}, i am {} years old\".format(xiaomao.name,xiaomao.age))   #优先访问实例的属性，没有再访问类的属性\n",
    "#如果访问实例也没有定义，报错\n",
    "print(xiaomao.age)"
   ]
  },
  {
   "cell_type": "markdown",
   "metadata": {},
   "source": [
    "# 访问类的属性\n",
    "- 在类里面如果强制访问类的属性，则需要使用__class__,(注意前后两个下划线）\n",
    "- 类方法： \n",
    "    - 定义类的方法的时候，没有self参数\n",
    "    - 类的方法中只允许使用类的内容\n",
    "    - 两种方法\n",
    "        - ClassName\n",
    "        - class"
   ]
  },
  {
   "cell_type": "code",
   "execution_count": 40,
   "metadata": {},
   "outputs": [],
   "source": [
    "# 注意类的定义\n",
    "class Student():\n",
    "    # name，age属于类的变量\n",
    "    # 注意类的变量的定义位置和方法\n",
    "    # 不需要前缀\n",
    "    name = \"西南科技大学\"# 类变量\n",
    "    age = 19\n",
    "    \n",
    "    def sayHai(self):\n",
    "        print(\"my name is {} , i am {} years old\".format(self.name, self.age))\n",
    "        return None\n",
    "    \n",
    "    #sos是类的方法\n",
    "    #如何访问类的变量\n",
    "    #但是调用需要用到特殊的方法\n",
    "    def sos(self):\n",
    "        print(\"my name is {},i am {} years old\".format(self.name,self.age))\n",
    "        return None"
   ]
  },
  {
   "cell_type": "code",
   "execution_count": 41,
   "metadata": {},
   "outputs": [
    {
     "name": "stdout",
     "output_type": "stream",
     "text": [
      "my name is 西南科技大学 , i am 19 years old\n",
      "my name is 西南科技大学,i am 19 years old\n"
     ]
    }
   ],
   "source": [
    "#体验类的方法\n",
    "s = Student()#相当于把类赋予一个实变量s\n",
    "s.sayHai()#定义的函数调用类中的内容\n",
    "#调用类方法的例子：\n",
    "s.sos()"
   ]
  },
  {
   "cell_type": "markdown",
   "metadata": {},
   "source": [
    "# 构造函数\n",
    "- 类在实例化的时候，执行一些基础性初始化的工作\n",
    "- 使用特殊的名称和写法\n",
    "- 在实例化的时候自动执行\n",
    "- 实在实例化的时候第一个被执行的函数"
   ]
  },
  {
   "cell_type": "code",
   "execution_count": 42,
   "metadata": {},
   "outputs": [
    {
     "name": "stdout",
     "output_type": "stream",
     "text": [
      "我是构造函数\n",
      "---------------\n",
      "NoName\n",
      "0\n"
     ]
    }
   ],
   "source": [
    "class Student():\n",
    "    name = \"NoName\"\n",
    "    age = 0\n",
    "    \n",
    "    # 构造函数名称固定，写法相对固定\n",
    "    def __init__(self):\n",
    "        print(\"我是构造函数\")\n",
    "\n",
    "s = Student()\n",
    "print(\"---------------\")\n",
    "print(s.name)\n",
    "print(s.age)\n",
    "    \n",
    "    "
   ]
  },
  {
   "cell_type": "markdown",
   "metadata": {},
   "source": [
    "# 面向对象的三大特征\n",
    "- 继承\n",
    "- 封装\n",
    "- 多态\n",
    "\n",
    "# 继承\n",
    "- 子类 is-a 子类可以使用父类所定义的内容或者行为等\n",
    "- 继承的实现\n",
    "    - 父类，基类， 超类：被继承的类，Base Class， Super Class\n",
    "    - 子类： 有继承行为的类\n",
    "    \n",
    "    -所以的类都必须有一个父类\n",
    "        - 如果没有，则默认为是object的子类\n",
    "\n"
   ]
  },
  {
   "cell_type": "code",
   "execution_count": 43,
   "metadata": {},
   "outputs": [],
   "source": [
    "#所有类都必须有父类\n",
    "#默认是object\n",
    "class Person1():\n",
    "    pass\n",
    "\n",
    "class person2(object):\n",
    "    pass\n",
    "\n"
   ]
  },
  {
   "cell_type": "code",
   "execution_count": 45,
   "metadata": {},
   "outputs": [
    {
     "name": "stdout",
     "output_type": "stream",
     "text": [
      "NoName\n"
     ]
    }
   ],
   "source": [
    "class Person():\n",
    "    name = \"NoName\"\n",
    "    age = 0\n",
    "    \n",
    "#父类写在类定义的时候的括号里\n",
    "class Teacher(Person):\n",
    "    pass\n",
    "\n",
    "t = Teacher()\n",
    "print(t.name)"
   ]
  },
  {
   "cell_type": "code",
   "execution_count": 55,
   "metadata": {},
   "outputs": [
    {
     "name": "stdout",
     "output_type": "stream",
     "text": [
      "i believe i can fly\n",
      "NoName 0 i can fly\n"
     ]
    }
   ],
   "source": [
    "class Bird():\n",
    "    fly = \"i can fly\"\n",
    "    def flying(self):\n",
    "        print(\"i believe i can fly\")\n",
    "class BirdMan(Person, Bird):  #后面注意要接冒号\n",
    "    pass\n",
    "\n",
    "bm = BirdMan()\n",
    "bm.flying()\n",
    "print(bm.name,bm.age,bm.fly)"
   ]
  },
  {
   "cell_type": "markdown",
   "metadata": {},
   "source": [
    "### issubclass检测是否是子类\n",
    "    - 可以用来检测两个类的父子关系"
   ]
  },
  {
   "cell_type": "code",
   "execution_count": 57,
   "metadata": {},
   "outputs": [
    {
     "name": "stdout",
     "output_type": "stream",
     "text": [
      "True\n",
      "True\n",
      "False\n"
     ]
    }
   ],
   "source": [
    "# 利用刚才定义的Bird，BirdMan ，Person，Teacher，检测父子关系\n",
    "\n",
    "print(issubclass(BirdMan,Bird))\n",
    "print(issubclass(BirdMan,Person))\n",
    "print(issubclass(BirdMan,Teacher))"
   ]
  },
  {
   "cell_type": "markdown",
   "metadata": {},
   "source": [
    "### 构造函数的继承\n",
    "    - 构造函数默认继承,子类如果没有构造函数，则自动调用父亲的构造函数\n",
    "    \n",
    "    -一旦子类定义了构造函数，则不再自动调用\n",
    "    \n",
    "    "
   ]
  },
  {
   "cell_type": "markdown",
   "metadata": {},
   "source": [
    "# 构造函数\n",
    "    - 实例化的时候调用的一个函数\n",
    "    - 自动调用\n",
    "    - 要求，第一个参数必须有，一般推荐self\n",
    "    - 构造函数的调用时间：一般在实例化的时候第一个被调用\n",
    "    - 一般不手动调用，实例化的时候自动调用，参数需写入类名称后面的括号中"
   ]
  },
  {
   "cell_type": "code",
   "execution_count": 60,
   "metadata": {},
   "outputs": [
    {
     "name": "stdout",
     "output_type": "stream",
     "text": [
      "我被调用了\n"
     ]
    }
   ],
   "source": [
    "#构造函数1\n",
    "class Bird():\n",
    "    def __init__(self):\n",
    "        print(\"我被调用了\")\n",
    "        return None\n",
    "#此时被调用构造函数\n",
    "b = Bird()"
   ]
  },
  {
   "cell_type": "code",
   "execution_count": 64,
   "metadata": {},
   "outputs": [
    {
     "name": "stdout",
     "output_type": "stream",
     "text": [
      "小明 19\n"
     ]
    }
   ],
   "source": [
    "# 构造函数2\n",
    "\n",
    "class Person():\n",
    "    def __init__(self,name,age):\n",
    "        print(name,age)\n",
    "\n",
    "p = Person(\"小明\",19)"
   ]
  },
  {
   "cell_type": "code",
   "execution_count": 69,
   "metadata": {},
   "outputs": [
    {
     "name": "stdout",
     "output_type": "stream",
     "text": [
      "Person=(小明, 19)\n"
     ]
    }
   ],
   "source": [
    "#构造函数默认继承\n",
    "\n",
    "class Person():\n",
    "    def __init__(self, name, age):\n",
    "        print(\"Person=({}, {})\".format(name,age))\n",
    "        \n",
    "class Teacher(Person):\n",
    "    pass\n",
    "\n",
    "t = Teacher(\"小明\", 19)\n",
    "\n"
   ]
  },
  {
   "cell_type": "code",
   "execution_count": null,
   "metadata": {},
   "outputs": [],
   "source": []
  }
 ],
 "metadata": {
  "kernelspec": {
   "display_name": "Python 3",
   "language": "python",
   "name": "python3"
  },
  "language_info": {
   "codemirror_mode": {
    "name": "ipython",
    "version": 3
   },
   "file_extension": ".py",
   "mimetype": "text/x-python",
   "name": "python",
   "nbconvert_exporter": "python",
   "pygments_lexer": "ipython3",
   "version": "3.6.4"
  }
 },
 "nbformat": 4,
 "nbformat_minor": 2
}
